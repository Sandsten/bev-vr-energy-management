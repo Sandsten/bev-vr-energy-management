{
 "cells": [
  {
   "cell_type": "code",
   "execution_count": 1,
   "metadata": {
    "code_folding": [
     0
    ]
   },
   "outputs": [],
   "source": [
    "# Libraries\n",
    "%matplotlib widget\n",
    "#%matplotlib notebook\n",
    "import matplotlib.pyplot as plt\n",
    "import matplotlib.patches as patches\n",
    "import matplotlib.patheffects as mpe\n",
    "from IPython.display import display\n",
    "import ipywidgets as widgets\n",
    "import pandas as pd\n",
    "import numpy as np\n",
    "import matplotlib\n",
    "import sys\n",
    "from scipy import stats\n",
    "import math"
   ]
  },
  {
   "cell_type": "code",
   "execution_count": 2,
   "metadata": {
    "code_folding": [
     0
    ]
   },
   "outputs": [
    {
     "data": {
      "text/html": [
       "<style>.container { width:100% !important; }</style>"
      ],
      "text/plain": [
       "<IPython.core.display.HTML object>"
      ]
     },
     "metadata": {},
     "output_type": "display_data"
    }
   ],
   "source": [
    "# Full width cells\n",
    "from IPython.core.display import display, HTML\n",
    "display(HTML(\"<style>.container { width:100% !important; }</style>\"))"
   ]
  },
  {
   "cell_type": "markdown",
   "metadata": {},
   "source": [
    "# Load data and clean it"
   ]
  },
  {
   "cell_type": "markdown",
   "metadata": {},
   "source": [
    "## Read .csv & rename columns"
   ]
  },
  {
   "cell_type": "code",
   "execution_count": 3,
   "metadata": {},
   "outputs": [],
   "source": [
    "# Load our data from file\n",
    "LocationAllData = \"../data-cleanup/merged-cleaned-csv/driving_data_merged_1_to_28.csv\"\n",
    "df = pd.read_csv(LocationAllData)\n",
    "\n",
    "# Give the columns names in the same style and give some entries clearer names\n",
    "df = df.rename(columns={\n",
    "    \"Attempt nr\":\"attempt\", \"userID\": \"user_id\", \"evisID\":\"evis_id\", \"timeStamp\":\"timestamp\", \"currentStateOfCharge\":\"current_soc\", \"energyConsumed\":\"energy_consumed\", \"energyUsage\":\"power_usage\",\n",
    "    \"distanceTraveled\":\"distance_traveled\", \"throttlePosition\":\"throttle_position\", \"breakPosition\":\"break_position\", \"steeringWheelRot\":\"wheel_rot\", \"yPosition\":\"road_height\"\n",
    "})"
   ]
  },
  {
   "cell_type": "markdown",
   "metadata": {},
   "source": [
    "## Assign *distance window*\n",
    "Add a new column with a so called \"distance_window\" this will be used to group data points in order to calculate average over distance"
   ]
  },
  {
   "cell_type": "code",
   "execution_count": 4,
   "metadata": {},
   "outputs": [],
   "source": [
    "# Decide which distance interval to average over\n",
    "distanceWindowWidth = 50\n",
    "\n",
    "def assignDistanceWindow(distance):\n",
    "    distanceWindowIndex = round(distance/distanceWindowWidth)\n",
    "    return distanceWindowWidth * distanceWindowIndex\n",
    "\n",
    "# Add a new row which containts which distance group each row belongs to\n",
    "df[\"distance_window\"] = df[\"distance_traveled\"].apply(assignDistanceWindow)"
   ]
  },
  {
   "cell_type": "markdown",
   "metadata": {},
   "source": [
    "## Exclusion of participants\n",
    "\n",
    "Here we should exclude participants who did not execute the task properly, e.g not using the dashboard at all or misunderstanding the task  \n",
    "List of participants I think should be excluded with a reason attached\n",
    "\n",
    "* id:5 - Guess - Participant didn't use the Range Estimate number in the dashboard  \n",
    "* id:10 - Diff - Participant didn't use bars at all, only focused on the speed and energy usage  \n",
    "* id:16 - Diff - Didn't understand the blue line  \n",
    "* id:25 - Guess - Seemed like the participant didn't understand that going at a lower speed was allowed"
   ]
  },
  {
   "cell_type": "code",
   "execution_count": 5,
   "metadata": {
    "scrolled": false
   },
   "outputs": [],
   "source": [
    "# Id of participants we want to exclude from the study\n",
    "exclusion_list = [10, 15, 5, 25, 16]\n",
    "# Remove all rows which are of participants who are in the exclusion_list\n",
    "df_excluded = df[~df.user_id.isin(exclusion_list)]"
   ]
  },
  {
   "cell_type": "markdown",
   "metadata": {},
   "source": [
    "# Calculation of averages and STD"
   ]
  },
  {
   "cell_type": "markdown",
   "metadata": {
    "code_folding": []
   },
   "source": [
    "## Calculate mean over distance for all attempts separately\n",
    "I.e a new data frame is created where each attempt performed by a single participant is averaged over each distance window.  \n",
    "Resulting in fewer rows but with a column with fixed distances\n",
    "\n",
    "`average_individual` contains each individual attempt over distance traveled averaged at each distance window"
   ]
  },
  {
   "cell_type": "code",
   "execution_count": 6,
   "metadata": {},
   "outputs": [],
   "source": [
    "average_individual = df_excluded.groupby([\"attempt\", \"evis_id\", \"user_id\", \"distance_window\"]).mean().reset_index()\n",
    "#average_individual"
   ]
  },
  {
   "cell_type": "markdown",
   "metadata": {},
   "source": [
    "## Calculate mean and STD of desired variables for the 4 different groups\n",
    "These are the four defined groups\n",
    "1. Diff + COPE1 - Attempt #1\n",
    "2. Diff + COPE1 - Attempt #2\n",
    "3. Guess-o-meter - Attempt #1\n",
    "4. Guess-o-meter - Attempt #2\n",
    "\n",
    "`average_group_based` contain the average variables of each distance window for each of the four groups\n"
   ]
  },
  {
   "cell_type": "code",
   "execution_count": 7,
   "metadata": {},
   "outputs": [],
   "source": [
    "average_groups = average_individual.groupby([\"attempt\", \"evis_id\", \"distance_window\"], as_index=False)\n",
    "\n",
    "average_group_based = average_groups[[\"speed\", \"current_soc\", \"road_height\", \"energy_consumed\"]].agg(\n",
    "    {\"speed\": [\"mean\", \"std\"], \n",
    "     \"current_soc\": [\"mean\", \"std\"], \n",
    "     \"energy_consumed\": [\"mean\", \"std\"],\n",
    "     \"road_height\": \"mean\"\n",
    "    })\n",
    "\n",
    "#average_group_based"
   ]
  },
  {
   "cell_type": "markdown",
   "metadata": {},
   "source": [
    "# Number of successful attempts vs failed ones"
   ]
  },
  {
   "cell_type": "markdown",
   "metadata": {},
   "source": [
    "## Create a new data frame with the number of fails and successes in each group\n",
    "`each_user_final_data_success` & `each_user_final_data_fail` contain the last averaged data point for each individual attempt"
   ]
  },
  {
   "cell_type": "code",
   "execution_count": 9,
   "metadata": {},
   "outputs": [
    {
     "data": {
      "text/html": [
       "<div>\n",
       "<style scoped>\n",
       "    .dataframe tbody tr th:only-of-type {\n",
       "        vertical-align: middle;\n",
       "    }\n",
       "\n",
       "    .dataframe tbody tr th {\n",
       "        vertical-align: top;\n",
       "    }\n",
       "\n",
       "    .dataframe thead th {\n",
       "        text-align: right;\n",
       "    }\n",
       "</style>\n",
       "<table border=\"1\" class=\"dataframe\">\n",
       "  <thead>\n",
       "    <tr style=\"text-align: right;\">\n",
       "      <th></th>\n",
       "      <th></th>\n",
       "      <th>successes</th>\n",
       "      <th>fails</th>\n",
       "    </tr>\n",
       "    <tr>\n",
       "      <th>attempt</th>\n",
       "      <th>evis_id</th>\n",
       "      <th></th>\n",
       "      <th></th>\n",
       "    </tr>\n",
       "  </thead>\n",
       "  <tbody>\n",
       "    <tr>\n",
       "      <th rowspan=\"2\" valign=\"top\">1</th>\n",
       "      <th>DiffAndCOPE1</th>\n",
       "      <td>7</td>\n",
       "      <td>5.0</td>\n",
       "    </tr>\n",
       "    <tr>\n",
       "      <th>GuessOMeter</th>\n",
       "      <td>3</td>\n",
       "      <td>8.0</td>\n",
       "    </tr>\n",
       "    <tr>\n",
       "      <th rowspan=\"2\" valign=\"top\">2</th>\n",
       "      <th>DiffAndCOPE1</th>\n",
       "      <td>12</td>\n",
       "      <td>0.0</td>\n",
       "    </tr>\n",
       "    <tr>\n",
       "      <th>GuessOMeter</th>\n",
       "      <td>9</td>\n",
       "      <td>2.0</td>\n",
       "    </tr>\n",
       "  </tbody>\n",
       "</table>\n",
       "</div>"
      ],
      "text/plain": [
       "                      successes  fails\n",
       "attempt evis_id                       \n",
       "1       DiffAndCOPE1          7    5.0\n",
       "        GuessOMeter           3    8.0\n",
       "2       DiffAndCOPE1         12    0.0\n",
       "        GuessOMeter           9    2.0"
      ]
     },
     "execution_count": 9,
     "metadata": {},
     "output_type": "execute_result"
    }
   ],
   "source": [
    "# Group based on attempt, evis and user id.\n",
    "each_user = average_individual.groupby([\"attempt\", \"evis_id\",\"user_id\"])\n",
    "\n",
    "# Create a new df with the last datapoint for each attempt\n",
    "each_user_final_data = pd.concat([each_user.tail(1)])\n",
    "\n",
    "each_user_final_data_success = each_user_final_data[each_user_final_data[\"distance_window\"] == 8000]\n",
    "each_user_final_data_fail = each_user_final_data[each_user_final_data[\"distance_window\"] != 8000]\n",
    "\n",
    "df_fail_success = each_user_final_data_success.groupby([\"attempt\", \"evis_id\"])[[\"user_id\"]].count().rename(columns={\"user_id\":\"successes\"})\n",
    "fails = each_user_final_data_fail.groupby([\"attempt\", \"evis_id\"])[[\"user_id\"]].count()\n",
    "\n",
    "# Add column with fails onto our successes df\n",
    "df_fail_success[\"fails\"] = fails[\"user_id\"]\n",
    "df_fail_success = df_fail_success.fillna(0)\n",
    "\n",
    "df_fail_success"
   ]
  },
  {
   "cell_type": "markdown",
   "metadata": {},
   "source": [
    "## Test statistical significance\n",
    "We have a binomial setup since there's only two options, succeeded or failed"
   ]
  },
  {
   "cell_type": "markdown",
   "metadata": {},
   "source": [
    "# Graph the attempts over distance traveled"
   ]
  },
  {
   "cell_type": "markdown",
   "metadata": {},
   "source": [
    "## speed over distance"
   ]
  },
  {
   "cell_type": "code",
   "execution_count": null,
   "metadata": {},
   "outputs": [],
   "source": [
    "## So"
   ]
  },
  {
   "cell_type": "markdown",
   "metadata": {},
   "source": [
    "# Average distance traveled"
   ]
  },
  {
   "cell_type": "markdown",
   "metadata": {},
   "source": [
    "# Statistical significance at different sections of the track"
   ]
  }
 ],
 "metadata": {
  "hide_input": false,
  "kernelspec": {
   "display_name": "Python 3",
   "language": "python",
   "name": "python3"
  },
  "language_info": {
   "codemirror_mode": {
    "name": "ipython",
    "version": 3
   },
   "file_extension": ".py",
   "mimetype": "text/x-python",
   "name": "python",
   "nbconvert_exporter": "python",
   "pygments_lexer": "ipython3",
   "version": "3.8.3"
  },
  "toc": {
   "base_numbering": 1,
   "nav_menu": {},
   "number_sections": true,
   "sideBar": true,
   "skip_h1_title": false,
   "title_cell": "Table of Contents",
   "title_sidebar": "Contents",
   "toc_cell": false,
   "toc_position": {},
   "toc_section_display": true,
   "toc_window_display": false
  }
 },
 "nbformat": 4,
 "nbformat_minor": 4
}
