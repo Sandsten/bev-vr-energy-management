{
 "cells": [
  {
   "cell_type": "code",
   "execution_count": 1,
   "metadata": {
    "code_folding": [
     0
    ]
   },
   "outputs": [],
   "source": [
    "# Libraries\n",
    "%matplotlib widget\n",
    "#%matplotlib notebook\n",
    "import matplotlib.pyplot as plt\n",
    "import matplotlib.patches as patches\n",
    "import matplotlib.patheffects as mpe\n",
    "from IPython.display import display\n",
    "import ipywidgets as widgets\n",
    "import pandas as pd\n",
    "import numpy as np\n",
    "import matplotlib\n",
    "import sys\n",
    "from scipy import stats\n",
    "import math"
   ]
  },
  {
   "cell_type": "code",
   "execution_count": 2,
   "metadata": {
    "code_folding": [
     0
    ]
   },
   "outputs": [
    {
     "data": {
      "text/html": [
       "<style>.container { width:100% !important; }</style>"
      ],
      "text/plain": [
       "<IPython.core.display.HTML object>"
      ]
     },
     "metadata": {},
     "output_type": "display_data"
    }
   ],
   "source": [
    "# Full width cells\n",
    "from IPython.core.display import display, HTML\n",
    "display(HTML(\"<style>.container { width:100% !important; }</style>\"))"
   ]
  },
  {
   "cell_type": "markdown",
   "metadata": {},
   "source": [
    "## Load our data and clean\n",
    "Load our data from .csv and rename columns to more comprehensible labels.  \n",
    "Also add a new column with a so called \"distance_window\" this will be used to group data points in order to use average over distance"
   ]
  },
  {
   "cell_type": "code",
   "execution_count": 6,
   "metadata": {},
   "outputs": [],
   "source": [
    "# Load our data from file\n",
    "LocationAllData = \"../data-cleanup/merged-cleaned-csv/driving_data_merged_1_to_28.csv\"\n",
    "df = pd.read_csv(LocationAllData)\n",
    "\n",
    "df = df.rename(columns={\n",
    "    \"Attempt nr\":\"attempt\", \"userID\": \"user_id\", \"evisID\":\"evis_id\", \"timeStamp\":\"timestamp\", \"currentStateOfCharge\":\"current_soc\", \"energyConsumed\":\"energy_consumed\", \"energyUsage\":\"power_usage\",\n",
    "    \"distanceTraveled\":\"distance_traveled\", \"throttlePosition\":\"throttle_position\", \"breakPosition\":\"break_position\", \"steeringWheelRot\":\"wheel_rot\", \"yPosition\":\"road_height\"\n",
    "})\n",
    "\n",
    "# Decide which distance interval to average over\n",
    "distanceWindowWidth = 50\n",
    "\n",
    "def assignDistanceWindow(distance):\n",
    "    distanceWindowIndex = round(distance/distanceWindowWidth)\n",
    "    return distanceWindowWidth * distanceWindowIndex\n",
    "\n",
    "# Add a new row which containts which distance group each row belongs to\n",
    "df[\"distance_window\"] = df[\"distance_traveled\"].apply(assignDistanceWindow)"
   ]
  },
  {
   "cell_type": "markdown",
   "metadata": {
    "code_folding": []
   },
   "source": [
    "## Calculate mean over distance for all values"
   ]
  },
  {
   "cell_type": "code",
   "execution_count": 14,
   "metadata": {},
   "outputs": [],
   "source": [
    "average_individual = df.groupby([\"attempt\", \"evis_id\", \"user_id\", \"distance_window\"]).mean().reset_index()\n",
    "#average_individual"
   ]
  },
  {
   "cell_type": "code",
   "execution_count": 28,
   "metadata": {},
   "outputs": [
    {
     "name": "stdout",
     "output_type": "stream",
     "text": [
      "0       2.158378\n",
      "1       5.081495\n",
      "2       4.792402\n",
      "3       5.931627\n",
      "4       7.130941\n",
      "         ...    \n",
      "156    15.806894\n",
      "157    18.245447\n",
      "158    17.245031\n",
      "159    16.461341\n",
      "160    18.341083\n",
      "Name: std, Length: 161, dtype: float64\n",
      "161     2.509907\n",
      "162     6.054142\n",
      "163     6.653424\n",
      "164     5.448932\n",
      "165     3.071619\n",
      "         ...    \n",
      "317    13.741550\n",
      "318    14.743618\n",
      "319    15.237218\n",
      "320    15.348556\n",
      "321    15.532835\n",
      "Name: std, Length: 161, dtype: float64\n",
      "322     7.219134\n",
      "323     6.206664\n",
      "324     5.814630\n",
      "325     4.660530\n",
      "326     4.323534\n",
      "         ...    \n",
      "478    13.783387\n",
      "479    16.263581\n",
      "480    20.070339\n",
      "481    19.884906\n",
      "482    20.415204\n",
      "Name: std, Length: 161, dtype: float64\n",
      "483     6.556877\n",
      "484     5.951855\n",
      "485     7.458693\n",
      "486     5.845544\n",
      "487     4.192759\n",
      "         ...    \n",
      "639    13.488896\n",
      "640    13.482789\n",
      "641    13.449700\n",
      "642    13.505980\n",
      "643    11.007418\n",
      "Name: std, Length: 161, dtype: float64\n"
     ]
    }
   ],
   "source": [
    "average_groups = average_individual.groupby([\"attempt\", \"evis_id\", \"distance_window\"], as_index=False)\n",
    "\n",
    "average_group_based = average_groups[[\"speed\", \"current_soc\", \"road_height\", \"energy_consumed\"]].agg(\n",
    "    {\"speed\": [\"mean\", \"std\"], \n",
    "     \"current_soc\": [\"mean\", \"std\"], \n",
    "     \"energy_consumed\": [\"mean\", \"std\"],\n",
    "     \"road_height\": \"mean\"\n",
    "    })\n",
    "\n",
    "# average_group_based = average_group_based.groupby([\"attempt\",\"evis_id\"])\n"
   ]
  }
 ],
 "metadata": {
  "hide_input": false,
  "kernelspec": {
   "display_name": "Python 3",
   "language": "python",
   "name": "python3"
  },
  "language_info": {
   "codemirror_mode": {
    "name": "ipython",
    "version": 3
   },
   "file_extension": ".py",
   "mimetype": "text/x-python",
   "name": "python",
   "nbconvert_exporter": "python",
   "pygments_lexer": "ipython3",
   "version": "3.8.3"
  }
 },
 "nbformat": 4,
 "nbformat_minor": 4
}
