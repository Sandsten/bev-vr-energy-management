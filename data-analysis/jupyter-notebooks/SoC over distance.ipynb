{
 "cells": [
  {
   "cell_type": "markdown",
   "metadata": {
    "heading_collapsed": true
   },
   "source": [
    "# Include libraries & configure cells"
   ]
  },
  {
   "cell_type": "code",
   "execution_count": 1,
   "metadata": {
    "code_folding": [
     0
    ],
    "hidden": true
   },
   "outputs": [],
   "source": [
    "# Libraries\n",
    "%matplotlib widget\n",
    "#%matplotlib notebook\n",
    "import matplotlib.pyplot as plt\n",
    "import matplotlib.patches as patches\n",
    "import matplotlib.patheffects as mpe\n",
    "from IPython.display import display, Markdown, HTML\n",
    "import ipywidgets as widgets\n",
    "import pandas as pd\n",
    "import numpy as np\n",
    "import matplotlib\n",
    "import sys\n",
    "from scipy import stats\n",
    "import math"
   ]
  },
  {
   "cell_type": "code",
   "execution_count": 2,
   "metadata": {
    "code_folding": [
     0
    ],
    "hidden": true
   },
   "outputs": [
    {
     "data": {
      "text/html": [
       "<style>.container { width:100% !important; }</style>"
      ],
      "text/plain": [
       "<IPython.core.display.HTML object>"
      ]
     },
     "metadata": {},
     "output_type": "display_data"
    }
   ],
   "source": [
    "# Full width cells\n",
    "from IPython.core.display import display, HTML\n",
    "display(HTML(\"<style>.container { width:100% !important; }</style>\"))"
   ]
  },
  {
   "cell_type": "markdown",
   "metadata": {},
   "source": [
    "# Load data and clean it"
   ]
  },
  {
   "cell_type": "markdown",
   "metadata": {},
   "source": [
    "## Read .csv & rename columns"
   ]
  },
  {
   "cell_type": "code",
   "execution_count": 3,
   "metadata": {
    "code_folding": [
     0
    ]
   },
   "outputs": [],
   "source": [
    "# Load our data from file\n",
    "LocationAllData = \"../data-cleanup/merged-cleaned-csv/driving_data_merged_1_to_30.csv\"\n",
    "df = pd.read_csv(LocationAllData)\n",
    "\n",
    "# Give the columns names in the same style and give some entries clearer names\n",
    "df = df.rename(columns={\n",
    "    \"Attempt nr\":\"attempt\", \"userID\": \"user_id\", \"evisID\":\"evis_id\", \"timeStamp\":\"timestamp\", \"currentStateOfCharge\":\"current_soc\", \"energyConsumed\":\"energy_consumed\", \"energyUsage\":\"power_usage\",\n",
    "    \"guesstimatedDistanceLeft\":\"range_estimate\",\"distanceTraveled\":\"distance_traveled\", \"throttlePosition\":\"throttle_position\", \"breakPosition\":\"break_position\", \"steeringWheelRot\":\"wheel_rot\", \"yPosition\":\"road_height\"\n",
    "})"
   ]
  },
  {
   "cell_type": "markdown",
   "metadata": {},
   "source": [
    "## Assign *distance window*\n",
    "Add a new column with a so called \"distance_window\" this will be used to group data points in order to calculate average over distance"
   ]
  },
  {
   "cell_type": "code",
   "execution_count": 4,
   "metadata": {
    "code_folding": [
     0
    ]
   },
   "outputs": [],
   "source": [
    "# Decide which distance interval to average over\n",
    "distanceWindowWidth = 50\n",
    "\n",
    "def assignDistanceWindow(distance):\n",
    "    distanceWindowIndex = round(distance/distanceWindowWidth)\n",
    "    return distanceWindowWidth * distanceWindowIndex\n",
    "\n",
    "# Add a new row which containts which distance group each row belongs to\n",
    "df[\"distance_window\"] = df[\"distance_traveled\"].apply(assignDistanceWindow)\n",
    "\n",
    "# The range estimate seen by the driver using the guess-o-meter is truncated, i.e only the integer is seen\n",
    "# 1.0 - 1.9 -> 1.0\n",
    "df[\"seen_range_estimate\"] = df[\"range_estimate\"].apply(lambda x: int(x))"
   ]
  },
  {
   "cell_type": "markdown",
   "metadata": {
    "heading_collapsed": true
   },
   "source": [
    "## Exclusion of participants\n",
    "\n",
    "Here we should exclude participants who did not execute the task properly, e.g not using the dashboard at all or misunderstanding the task  \n",
    "List of participants I think should be excluded with a reason attached\n",
    "\n",
    "* id:5 - Guess - Participant didn't use the Range Estimate number in the dashboard  \n",
    "* id:10 - Diff - Participant didn't use bars at all, only focused on the speed and energy usage  \n",
    "* id:16 - Diff - Didn't understand the blue line  \n",
    "* id:25 - Guess - Seemed like the participant didn't understand that going at a lower speed was allowed\n",
    "* id:29 - Guess - Didn't want to drive too slow on the highway, mentioned that it's illegal to go < 100 km/h\n",
    "\n",
    "Not sure about these\n",
    "* id:14 - Diff - Experimented quite a bit but managed to complete the drive at 2nd attempt\n",
    "* id:15 - Guess - Tried to regain energy by breaking quite a bit"
   ]
  },
  {
   "cell_type": "code",
   "execution_count": 5,
   "metadata": {
    "code_folding": [
     0
    ],
    "hidden": true,
    "scrolled": false
   },
   "outputs": [],
   "source": [
    "# Id of participants we want to exclude from the study\n",
    "exclusion_list = [5, 10, 14, 16, 25, 29]\n",
    "exclusion_list = [5, 10, 16, 25, 29]\n",
    "#exclusion_list = []\n",
    "# Remove all rows which are of participants who are in the exclusion_list\n",
    "df_excluded = df[~df.user_id.isin(exclusion_list)]\n",
    "\n",
    "# Get all the unique user id's\n",
    "all_user_ids = df_excluded.user_id.unique()\n",
    "# Total number of users\n",
    "number_of_users = all_user_ids.size\n",
    "individual_attempts_are_hidden = False"
   ]
  },
  {
   "cell_type": "markdown",
   "metadata": {},
   "source": [
    "# Calculation of averages and STD"
   ]
  },
  {
   "cell_type": "markdown",
   "metadata": {
    "code_folding": [],
    "heading_collapsed": true
   },
   "source": [
    "## Calculate mean over distance for all attempts separately\n",
    "I.e a new data frame is created where each attempt performed by a single participant is averaged over each distance window.  \n",
    "Resulting in fewer rows but with a column with fixed distances\n",
    "\n",
    "`average_individual` contains each individual attempt over distance traveled averaged at each distance window"
   ]
  },
  {
   "cell_type": "code",
   "execution_count": 6,
   "metadata": {
    "code_folding": [
     0
    ],
    "hidden": true
   },
   "outputs": [],
   "source": [
    "#\n",
    "average_individual = df_excluded.groupby([\"attempt\", \"evis_id\", \"user_id\", \"distance_window\"]).mean().reset_index()\n",
    "#average_individual"
   ]
  },
  {
   "cell_type": "markdown",
   "metadata": {},
   "source": [
    "## Calculate mean and STD of desired variables for the 4 different groups\n",
    "These are the four defined groups\n",
    "1. Diff + COPE1 - Attempt #1\n",
    "2. Diff + COPE1 - Attempt #2\n",
    "3. Guess-o-meter - Attempt #1\n",
    "4. Guess-o-meter - Attempt #2\n",
    "\n",
    "`average_group_based` contain the average variables of each distance window for each of the four groups\n"
   ]
  },
  {
   "cell_type": "code",
   "execution_count": 7,
   "metadata": {
    "code_folding": []
   },
   "outputs": [],
   "source": [
    "#\n",
    "average_groups = average_individual.groupby([\"attempt\", \"evis_id\", \"distance_window\"], as_index=False)\n",
    "\n",
    "average_group_based = average_groups[[\"speed\", \"current_soc\", \"road_height\", \"energy_consumed\", \"range_estimate\"]].agg(\n",
    "    {\"speed\": [\"mean\", \"std\"], \n",
    "     \"current_soc\": [\"mean\", \"std\"], \n",
    "     \"energy_consumed\": [\"mean\", \"std\"],\n",
    "     \"range_estimate\": [\"mean\", \"std\"],\n",
    "     \"road_height\": \"mean\"\n",
    "    })\n",
    "\n",
    "#average_group_based"
   ]
  },
  {
   "cell_type": "markdown",
   "metadata": {
    "heading_collapsed": true
   },
   "source": [
    "## Average road height\n",
    "Calculate the average road height at each `distance_window`"
   ]
  },
  {
   "cell_type": "code",
   "execution_count": 8,
   "metadata": {
    "code_folding": [
     0
    ],
    "hidden": true
   },
   "outputs": [
    {
     "name": "stderr",
     "output_type": "stream",
     "text": [
      "/home/steve/anaconda3/lib/python3.8/site-packages/pandas/core/generic.py:3936: PerformanceWarning: dropping on a non-lexsorted multi-index without a level parameter may impact performance.\n",
      "  obj = obj._drop_axis(labels, axis, level=level, errors=errors)\n"
     ]
    }
   ],
   "source": [
    "# Calculate the average road height over all the drives\n",
    "# We can ignore the warning here, it's still fast\n",
    "average_road_height = average_group_based[[\"distance_window\",\"road_height\"]].groupby([\"distance_window\"], as_index=False).mean()"
   ]
  },
  {
   "cell_type": "markdown",
   "metadata": {},
   "source": [
    "# Number of successful attempts vs failed ones"
   ]
  },
  {
   "cell_type": "markdown",
   "metadata": {},
   "source": [
    "\n",
    "## Number of valid participants"
   ]
  },
  {
   "cell_type": "code",
   "execution_count": 9,
   "metadata": {
    "code_folding": [
     0
    ]
   },
   "outputs": [
    {
     "data": {
      "text/html": [
       "<div>\n",
       "<style scoped>\n",
       "    .dataframe tbody tr th:only-of-type {\n",
       "        vertical-align: middle;\n",
       "    }\n",
       "\n",
       "    .dataframe tbody tr th {\n",
       "        vertical-align: top;\n",
       "    }\n",
       "\n",
       "    .dataframe thead th {\n",
       "        text-align: right;\n",
       "    }\n",
       "</style>\n",
       "<table border=\"1\" class=\"dataframe\">\n",
       "  <thead>\n",
       "    <tr style=\"text-align: right;\">\n",
       "      <th></th>\n",
       "      <th>Diff_COPE1</th>\n",
       "      <th>Guess_o_meter</th>\n",
       "    </tr>\n",
       "  </thead>\n",
       "  <tbody>\n",
       "    <tr>\n",
       "      <th>nr_of_participants</th>\n",
       "      <td>13</td>\n",
       "      <td>12</td>\n",
       "    </tr>\n",
       "  </tbody>\n",
       "</table>\n",
       "</div>"
      ],
      "text/plain": [
       "                    Diff_COPE1  Guess_o_meter\n",
       "nr_of_participants          13             12"
      ]
     },
     "execution_count": 9,
     "metadata": {},
     "output_type": "execute_result"
    }
   ],
   "source": [
    "#\n",
    "total_number_of_participants = len(df_excluded[\"user_id\"].unique())\n",
    "\n",
    "unique_ids = df_excluded.groupby([\"evis_id\", \"user_id\"], as_index=False).count()\n",
    "number_of_participants_diff = len(unique_ids[unique_ids[\"evis_id\"] == \"DiffAndCOPE1\"])\n",
    "number_of_participants_guess = len(unique_ids[unique_ids[\"evis_id\"] == \"GuessOMeter\"])\n",
    "\n",
    "pd.DataFrame(data={\"Diff_COPE1\":[number_of_participants_diff], \"Guess_o_meter\":[number_of_participants_guess]}, index=[\"nr_of_participants\"])\n"
   ]
  },
  {
   "cell_type": "markdown",
   "metadata": {},
   "source": [
    "## Create a new data frame with the number of fails and successes in each group\n",
    "`each_user_final_data_success` & `each_user_final_data_fail` contain the last averaged data point for each individual attempt  \n",
    "`df_fail_success` is the resulting data frame with success and fail count"
   ]
  },
  {
   "cell_type": "code",
   "execution_count": 10,
   "metadata": {
    "code_folding": [
     0
    ]
   },
   "outputs": [
    {
     "data": {
      "text/html": [
       "<div>\n",
       "<style scoped>\n",
       "    .dataframe tbody tr th:only-of-type {\n",
       "        vertical-align: middle;\n",
       "    }\n",
       "\n",
       "    .dataframe tbody tr th {\n",
       "        vertical-align: top;\n",
       "    }\n",
       "\n",
       "    .dataframe thead th {\n",
       "        text-align: right;\n",
       "    }\n",
       "</style>\n",
       "<table border=\"1\" class=\"dataframe\">\n",
       "  <thead>\n",
       "    <tr style=\"text-align: right;\">\n",
       "      <th></th>\n",
       "      <th></th>\n",
       "      <th>successes</th>\n",
       "      <th>fails</th>\n",
       "      <th>success_rate</th>\n",
       "    </tr>\n",
       "    <tr>\n",
       "      <th>attempt</th>\n",
       "      <th>evis_id</th>\n",
       "      <th></th>\n",
       "      <th></th>\n",
       "      <th></th>\n",
       "    </tr>\n",
       "  </thead>\n",
       "  <tbody>\n",
       "    <tr>\n",
       "      <th rowspan=\"2\" valign=\"top\">1</th>\n",
       "      <th>DiffAndCOPE1</th>\n",
       "      <td>8</td>\n",
       "      <td>5.0</td>\n",
       "      <td>0.615385</td>\n",
       "    </tr>\n",
       "    <tr>\n",
       "      <th>GuessOMeter</th>\n",
       "      <td>3</td>\n",
       "      <td>9.0</td>\n",
       "      <td>0.250000</td>\n",
       "    </tr>\n",
       "    <tr>\n",
       "      <th rowspan=\"2\" valign=\"top\">2</th>\n",
       "      <th>DiffAndCOPE1</th>\n",
       "      <td>13</td>\n",
       "      <td>0.0</td>\n",
       "      <td>1.000000</td>\n",
       "    </tr>\n",
       "    <tr>\n",
       "      <th>GuessOMeter</th>\n",
       "      <td>9</td>\n",
       "      <td>3.0</td>\n",
       "      <td>0.750000</td>\n",
       "    </tr>\n",
       "  </tbody>\n",
       "</table>\n",
       "</div>"
      ],
      "text/plain": [
       "                      successes  fails  success_rate\n",
       "attempt evis_id                                     \n",
       "1       DiffAndCOPE1          8    5.0      0.615385\n",
       "        GuessOMeter           3    9.0      0.250000\n",
       "2       DiffAndCOPE1         13    0.0      1.000000\n",
       "        GuessOMeter           9    3.0      0.750000"
      ]
     },
     "execution_count": 10,
     "metadata": {},
     "output_type": "execute_result"
    }
   ],
   "source": [
    "# Group based on attempt, evis and user id.\n",
    "each_user = average_individual.groupby([\"attempt\", \"evis_id\",\"user_id\"])\n",
    "\n",
    "# Create a new df with the last datapoint for each attempt\n",
    "each_user_final_data = pd.concat([each_user.tail(1)])\n",
    "\n",
    "each_user_final_data_success = each_user_final_data[each_user_final_data[\"distance_window\"] == 8000]\n",
    "each_user_final_data_fail = each_user_final_data[each_user_final_data[\"distance_window\"] != 8000]\n",
    "\n",
    "df_fail_success = each_user_final_data_success.groupby([\"attempt\", \"evis_id\"])[[\"user_id\"]].count().rename(columns={\"user_id\":\"successes\"})\n",
    "fails = each_user_final_data_fail.groupby([\"attempt\", \"evis_id\"])[[\"user_id\"]].count()\n",
    "\n",
    "# Add column with fails onto our successes df\n",
    "df_fail_success[\"fails\"] = fails[\"user_id\"]\n",
    "df_fail_success = df_fail_success.fillna(0)\n",
    "\n",
    "df_fail_success[\"success_rate\"] = df_fail_success[\"successes\"] / (df_fail_success[\"successes\"] + df_fail_success[\"fails\"])\n",
    "\n",
    "df_fail_success"
   ]
  },
  {
   "cell_type": "markdown",
   "metadata": {},
   "source": [
    "## Test statistical significance\n",
    "Stats fisher test: If p-value is < 0.05 **H0** is rejected in favor of **H1**  \n",
    "**H0**: Dashboard and success rate are independent (Dashboard does not affect success rate, equal chance of making it with either EVIS)  \n",
    "**H1**: Dashboard and success rate are not independent (Dashboard affects success rate, it matters what EVIS you use)  "
   ]
  },
  {
   "cell_type": "code",
   "execution_count": 11,
   "metadata": {
    "code_folding": [
     0
    ]
   },
   "outputs": [
    {
     "name": "stdout",
     "output_type": "stream",
     "text": [
      "p-value first attempt\n",
      "0.11070130569390259\n",
      "\n",
      "p-value second attempt\n",
      "0.0956521739130436\n"
     ]
    }
   ],
   "source": [
    "# Stats fisher test\n",
    "\n",
    "a1 = df_fail_success.loc[1].T\n",
    "#a1.loc[\"successes\"].values\n",
    "\n",
    "oddsratio, pvalue = stats.fisher_exact([a1.loc[\"successes\"].values, a1.loc[\"fails\"].values])\n",
    "print(\"p-value first attempt\")\n",
    "print(pvalue)\n",
    "\n",
    "a2 = df_fail_success.loc[2].T\n",
    "#a2.loc[\"successes\"].values\n",
    "\n",
    "oddsratio, pvalue = stats.fisher_exact([a2.loc[\"successes\"].values, a2.loc[\"fails\"].values])\n",
    "print(\"\\np-value second attempt\")\n",
    "print(pvalue)"
   ]
  },
  {
   "cell_type": "markdown",
   "metadata": {},
   "source": [
    "# Graph the attempts over distance traveled"
   ]
  },
  {
   "cell_type": "markdown",
   "metadata": {},
   "source": [
    "## Default plot settings\n",
    "Default font sizes and colors"
   ]
  },
  {
   "cell_type": "code",
   "execution_count": 12,
   "metadata": {
    "code_folding": []
   },
   "outputs": [],
   "source": [
    "# Plot window presets & color constants\n",
    "plt.style.use(\"default\")\n",
    "params = {\n",
    "    'font.size': 12,\n",
    "    'axes.labelsize': 15,\n",
    "    'axes.titlesize': 15,\n",
    "    'legend.fontsize': 12,\n",
    "    'xtick.labelsize': 15,\n",
    "    'ytick.labelsize': 15\n",
    "}\n",
    "matplotlib.rcParams.update(params)\n",
    "\n",
    "color_road = \"k\"\n",
    "color_diff = \"#FFA85C\"\n",
    "color_diff_border = \"#E06900\"\n",
    "color_diff_a1 = \"#1B998B\"\n",
    "color_guess = \"#3F9CDE\"\n",
    "color_guess_a1 = \"#1B998B\"\n",
    "color_guess_border = \"#1B679D\""
   ]
  },
  {
   "cell_type": "markdown",
   "metadata": {},
   "source": [
    "## SoC over distance\n",
    "SoC over distance traveled plots"
   ]
  },
  {
   "cell_type": "markdown",
   "metadata": {},
   "source": [
    "### Attempt #1"
   ]
  },
  {
   "cell_type": "code",
   "execution_count": 13,
   "metadata": {
    "code_folding": [
     0
    ]
   },
   "outputs": [],
   "source": [
    "#\n",
    "def didUserMakeIt(group):\n",
    "    return group[\"distance_window\"].iloc[-1] == 8000\n",
    "\n",
    "# Class for the individual attempt line\n",
    "class IndividualAttemptLine:\n",
    "    line_highlight = {\"a\": 1.0, \"w\": 3.0}\n",
    "    line_normal = {\"a\": 0.4, \"w\": 2.0}\n",
    "    marker_highlight = 1.0\n",
    "    marker_normal = 0.7\n",
    "    \n",
    "    def __init__(self, ax, name, group):\n",
    "        self.group = group\n",
    "        self.driver_id = name[2]\n",
    "        self.draw_order_base = self.driver_id * 3\n",
    "        self.is_highlighted = False\n",
    "        self.color = color_guess if name[1] == \"GuessOMeter\" else color_diff\n",
    "        self.color_strong = color_guess_border if name[1] == \"GuessOMeter\" else color_diff_border\n",
    "        \n",
    "        # Individual Attempt\n",
    "        self.line = ax.plot(group[\"distance_window\"], group[\"current_soc\"], \n",
    "                            color=self.color, zorder=self.draw_order_base, \n",
    "                            linewidth=self.line_normal[\"w\"], alpha=self.line_normal[\"a\"])[0]\n",
    "        \n",
    "        # Marking for where the user ended up\n",
    "        self.marker = ax.plot(group[\"distance_window\"].iloc[-1], group[\"current_soc\"].iloc[-1], \n",
    "                              color=self.color, zorder=self.draw_order_base + 1, marker=\"o\", markersize=25, \n",
    "                              alpha=self.marker_normal)[0]\n",
    "        \n",
    "        # Mark the endpoint with the user id as well\n",
    "        self.text = ax.text(group[\"distance_window\"].iloc[-1], group[\"current_soc\"].iloc[-1], \n",
    "                            s=self.driver_id, color=\"k\", size=\"small\", zorder=self.draw_order_base + 2, clip_on=True, \n",
    "                            horizontalalignment='center', verticalalignment='center')\n",
    "        \n",
    "        \n",
    "    \n",
    "    def highlight(self, value):\n",
    "        self.is_highlighted = value\n",
    "        \n",
    "        self.line.set_alpha(self.line_highlight[\"a\"] if self.is_highlighted else self.line_normal[\"a\"])\n",
    "        self.line.set_linewidth(self.line_highlight[\"w\"] if self.is_highlighted else self.line_normal[\"w\"])\n",
    "        self.line.set_zorder(500 + self.driver_id * 3 + 1 if self.is_highlighted else self.driver_id * 3 + 1)\n",
    "        \n",
    "        # Use path effect to see overlaps more clearly\n",
    "        pe1 = [\n",
    "            mpe.Stroke(linewidth=5, foreground=self.color_strong),\n",
    "            mpe.Stroke(foreground='white',alpha=1),\n",
    "            mpe.Normal()\n",
    "        ]\n",
    "        self.line.set_path_effects(pe1 if self.is_highlighted else [])\n",
    "        \n",
    "        self.marker.set_alpha(self.marker_highlight if self.is_highlighted else self.marker_normal)\n",
    "        self.marker.set_zorder(500 + self.driver_id * 3 + 2 if self.is_highlighted else self.driver_id * 3 + 2)\n",
    "        self.marker.set_path_effects(pe1 if self.is_highlighted else [])\n",
    "        \n",
    "        self.text.set_zorder((500 + self.driver_id * 3 + 3) if self.is_highlighted else (self.driver_id * 3 + 3))\n",
    "        \n",
    "        # If we highlight and the rest of the lines are hidden -> show it\n",
    "        if self.is_highlighted:\n",
    "            self.text.set_alpha(1)\n",
    "        # If we remove highlight and the rest are hidden -> hide it\n",
    "        if not self.is_highlighted and individual_attempts_are_hidden:\n",
    "            self.setHide(True)\n",
    "    \n",
    "    def setHide(self, hide, force=False):\n",
    "        # If the line is alreday highlighted don't hide it! Unless fore is set to true\n",
    "        if self.is_highlighted and force == False:\n",
    "            return\n",
    "        \n",
    "        self.line.set_alpha(0 if hide else self.line_normal[\"a\"])\n",
    "        self.marker.set_alpha(0 if hide else self.marker_normal)\n",
    "        self.text.set_alpha(0 if hide else 1)\n",
    "\n",
    "    def showIfFailed(self):\n",
    "        if didUserMakeIt(self.group):\n",
    "            self.setHide(True, True)\n",
    "        else:\n",
    "            self.setHide(False)\n",
    "        \n",
    "class MeanWithSTD:\n",
    "    def __init__(self, ax, name, group):\n",
    "        self.color = color_guess if name[1] == \"GuessOMeter\" else color_diff\n",
    "        self.attempt = name[0]\n",
    "        self.std_alpha = 0.5\n",
    "        self.color_strong = color_guess_border if name[1] == \"GuessOMeter\" else color_diff_border\n",
    "        \n",
    "        self.average_line = ax.plot(group[\"distance_window\"], group[\"current_soc\"][\"mean\"],\n",
    "            color=self.color, zorder=100, linewidth=2, alpha=1)[0]\n",
    "        \n",
    "        # Use path effect to see overlaps more clearly\n",
    "        self.pe1 = [\n",
    "            mpe.Stroke(linewidth=4, foreground=\"k\"),\n",
    "            mpe.Stroke(foreground='white',alpha=1),\n",
    "            mpe.Normal()\n",
    "        ]\n",
    "        self.average_line.set_path_effects(self.pe1)\n",
    "        \n",
    "        self.zorder = 1 if name[1] == \"GuessOMeter\" else 2\n",
    "        self.std_band = ax.fill_between(\n",
    "            group[\"distance_window\"],\n",
    "            group[\"current_soc\"][\"mean\"] + group[\"current_soc\"][\"std\"],\n",
    "            group[\"current_soc\"][\"mean\"] - group[\"current_soc\"][\"std\"],\n",
    "            color=self.color, alpha=self.std_alpha, zorder=self.zorder)\n",
    "\n",
    "    def setHide(self, hide):\n",
    "        self.average_line.set_alpha(0 if hide else 1)\n",
    "        self.std_band.set_alpha(0 if hide else self.std_alpha)\n",
    "        self.average_line.set_path_effects([] if hide else self.pe1)"
   ]
  },
  {
   "cell_type": "code",
   "execution_count": 14,
   "metadata": {
    "code_folding": [
     0
    ]
   },
   "outputs": [],
   "source": [
    "# Plot lines\n",
    "whichAttempt = 1\n",
    "\n",
    "# Individual attempts plot\n",
    "output_1 = widgets.Output()\n",
    "\n",
    "with output_1:\n",
    "    fig_1, ax_1 = plt.subplots(figsize=(10, 6))\n",
    "ax_1.set_xlabel(\"Distance [m]\")\n",
    "ax_1.set_ylabel(\"SoC [kWh]\")\n",
    "ax_1.set_title(\"Average SoC over distance: attempt #\" + str(whichAttempt))\n",
    "ax_1.grid(True)\n",
    "\n",
    "### Draw the plot objects ###\n",
    "\n",
    "# Plot the individual attempts as transparent lines. At the end of each attempt, plot a dot to mark it\n",
    "driving_lines_obj_dict_1 = {}\n",
    "average_individual_grouped = average_individual.groupby([\"attempt\",\"evis_id\",\"user_id\"])\n",
    "for name,group in average_individual_grouped:\n",
    "    if name[0] != whichAttempt: \n",
    "        continue\n",
    "    \n",
    "    individual_attempt = IndividualAttemptLine(ax_1, name, group)\n",
    "    driving_lines_obj_dict_1[name[2]] = individual_attempt\n",
    "\n",
    "# Plot the average line with +- standard deviation\n",
    "average_group_based_grouped = average_group_based.groupby([\"attempt\",\"evis_id\"])\n",
    "mean_std_obj_dict_1 = {}\n",
    "for name,group in average_group_based_grouped:\n",
    "    if name[0] != whichAttempt: \n",
    "        continue\n",
    "    \n",
    "    mean_with_std = MeanWithSTD(ax_1, name, group)\n",
    "    mean_std_obj_dict_1[name[1]] = mean_with_std       \n",
    "\n",
    "sampled_distances = np.arange(0, 8000 + 1, distanceWindowWidth)\n",
    "\n",
    "# All the averaged values for each individual\n",
    "individual = average_individual[[\"user_id\",\"attempt\",\"evis_id\",\"distance_window\",\"current_soc\"]] # Get the columns we need\n",
    "individual = individual[(individual[\"attempt\"] == whichAttempt) & (individual[\"evis_id\"] == \"DiffAndCOPE1\")] # Get one particular attempt and evis values\n",
    "individual_pivot = individual.pivot(index=\"user_id\", columns=\"distance_window\", values=\"current_soc\") # Get the average speeds for each distance window for each user\n",
    "a1_s1_diff = individual_pivot.round(1)\n",
    "\n",
    "# All the averaged values for each individual\n",
    "individual = average_individual[[\"user_id\",\"attempt\",\"evis_id\",\"distance_window\",\"current_soc\"]] # Get the columns we need\n",
    "individual = individual[(individual[\"attempt\"] == whichAttempt) & (individual[\"evis_id\"] == \"GuessOMeter\")] # Get one particular attempt and evis values\n",
    "individual_pivot = individual.pivot(index=\"user_id\", columns=\"distance_window\", values=\"current_soc\") # Get the average speeds for each distance window for each user\n",
    "a1_s1_guess = individual_pivot.round(1)\n",
    "\n",
    "# IDEA: Check for statistical difference using ttest at each distance window.\n",
    "# If ther's a difference, paint the background in a particular color to highlight that \"here wer have a statistical difference!!!\"\n",
    "        \n",
    "### Road height ###\n",
    "\n",
    "# Plot road height\n",
    "ax2_1 = ax_1.twinx()\n",
    "ax2_1.set_ylim(-10, 30)\n",
    "ax2_1.grid(True, linestyle=\"--\", linewidth=2)\n",
    "ax2_1.set_ylabel('Elevation [m]', color=color_road)\n",
    "road_height_plot, = ax2_1.plot(average_road_height[\"distance_window\"], average_road_height[\"road_height\"], \n",
    "                        color=color_road, zorder=2, linewidth=2, linestyle=\"--\", alpha=1, label=\"Elevation\")\n",
    "\n",
    "# Marker for where the 110 km/h signs are\n",
    "vline_1 = ax_1.axvline(x=3100, color=\"k\", linestyle=\"-\", linewidth=2, label=\"110 km/h sign\")\n",
    "\n",
    "# Create a legend\n",
    "first_patch = patches.Patch(color=color_guess, label=\"Guess-o-meter\")\n",
    "second_patch = patches.Patch(color=color_diff, label=\"Diff + COPE1\")\n",
    "ax_1.legend(handles=[first_patch, second_patch, road_height_plot, vline_1], loc=\"upper right\").set_zorder(2000)\n",
    "\n",
    "ax_1.set_yticks(np.arange(0,1.3,0.1))\n",
    "\n",
    "# Prevent secondary axis to be drawn ontop of everything\n",
    "ax_1.set_zorder(1)\n",
    "ax_1.patch.set_visible(False)"
   ]
  },
  {
   "cell_type": "code",
   "execution_count": 15,
   "metadata": {
    "code_folding": [
     0
    ],
    "scrolled": false
   },
   "outputs": [
    {
     "data": {
      "application/vnd.jupyter.widget-view+json": {
       "model_id": "b26c238e6fce444c9e102c5b314e4e31",
       "version_major": 2,
       "version_minor": 0
      },
      "text/plain": [
       "VBox(children=(VBox(children=(Output(), VBox(children=(HBox(children=(Label(value='Guess-o-meter'), Checkbox(v…"
      ]
     },
     "metadata": {},
     "output_type": "display_data"
    }
   ],
   "source": [
    "### Widgets for updating the graph ###\n",
    "\n",
    "def highlightLine(x):\n",
    "    id = int(x.owner.description)\n",
    "    driving_lines_obj_dict_1[id].highlight(x.new)\n",
    "\n",
    "# Allow user to highlight individual attempts\n",
    "checkboxes_guess = [widgets.Label(\"Guess-o-meter\")]\n",
    "checkboxes_copediff = [widgets.Label(\"COPE1 + diff\")]\n",
    "for i in range(number_of_users):\n",
    "    checkbox = widgets.Checkbox(description=str(all_user_ids[i]), value=False, layout={\"width\":\"50px\"}, indent=False)\n",
    "    checkbox.observe(highlightLine, \"value\")\n",
    "    if all_user_ids[i]%2:\n",
    "        checkboxes_guess.append(checkbox)\n",
    "    else:\n",
    "        checkboxes_copediff.append(checkbox)\n",
    "\n",
    "container_guess_checkboxes = widgets.HBox(checkboxes_guess)\n",
    "container_diffcope_checkboxes = widgets.HBox(checkboxes_copediff)\n",
    "checkboxes = widgets.VBox([container_guess_checkboxes, container_diffcope_checkboxes])\n",
    "\n",
    "# Allow user to update the range of each axis\n",
    "def updateXRange(x):\n",
    "    margin = 200\n",
    "    ax_1.set_xlim(x.new[0] - margin, x.new[1] + margin)\n",
    "def updateYRange(y):\n",
    "    margin = 0\n",
    "    ax_1.set_ylim(y.new[0] - margin, y.new[1] + margin)\n",
    "def updateYRangeSecondary(y):\n",
    "    margin = 1\n",
    "    ax2_1.set_ylim(y.new[0] - margin, y.new[1] + margin)\n",
    "    \n",
    "def createRangeSlider(min, max, step, desc):\n",
    "    return widgets.IntRangeSlider(\n",
    "        value=[min,max],\n",
    "        min=min,\n",
    "        max=max,\n",
    "        step=step,\n",
    "        description=desc\n",
    "    )\n",
    "\n",
    "range_slider_x = createRangeSlider(0,8000, 100, \"X Range\")\n",
    "range_slider_x.observe(updateXRange,\"value\")\n",
    "\n",
    "range_slider_y = createRangeSlider(0,2,0.1, \"Y Range (left)\")\n",
    "range_slider_y.observe(updateYRange,\"value\")\n",
    "\n",
    "range_slider_y_secondary = createRangeSlider(-10,40,1, \"Y Range (Right)\")\n",
    "range_slider_y_secondary.observe(updateYRangeSecondary,\"value\")\n",
    "\n",
    "# Allow user to select what to show\n",
    "def toggleIndividualAttempts(show):\n",
    "    global individual_attempts_are_hidden # This is needed to change global variables inside a function\n",
    "    individual_attempts_are_hidden = not show.new\n",
    "    for line in driving_lines_obj_dict_1:\n",
    "        driving_lines_obj_dict_1[line].setHide(individual_attempts_are_hidden)\n",
    "            \n",
    "show_individual_attempts_checkbox = widgets.Checkbox(description=\"Show individual attempts\", value=True)\n",
    "show_individual_attempts_checkbox.observe(toggleIndividualAttempts, \"value\")\n",
    "\n",
    "# TODO: Show failed attempts\n",
    "def showFailedAttempts(show):\n",
    "    for line in driving_lines_obj_dict_1:\n",
    "        driving_lines_obj_dict_1[line].showIfFailed()\n",
    "    \n",
    "show_failed_attempts = widgets.Button(description=\"Show failed attempts\")\n",
    "show_failed_attempts.on_click(showFailedAttempts)\n",
    "\n",
    "def saveImage(save):\n",
    "    fig_1.savefig(\"../figures-local/a1_speed_distance.png\", dpi=300)\n",
    "\n",
    "save_plot = widgets.Button(description=\"Save as image\")\n",
    "save_plot.on_click(saveImage)\n",
    "\n",
    "# TODO: Show successful attempts\n",
    "\n",
    "# TODO: Show average speed\n",
    "\n",
    "def toggleMeanSTD(show):\n",
    "    for plot_obj in mean_std_obj_dict_1:\n",
    "        mean_std_obj_dict_1[plot_obj].setHide(not show.new)\n",
    "\n",
    "toggle_mean_std = widgets.Checkbox(description=\"Show mean & std\", value=True)\n",
    "toggle_mean_std.observe(toggleMeanSTD, \"value\")\n",
    "\n",
    "# TODO: Show standard deviation\n",
    "\n",
    "box_2 = widgets.HBox([range_slider_x, range_slider_y, range_slider_y_secondary])\n",
    "box_3 = widgets.HBox([show_individual_attempts_checkbox, toggle_mean_std, show_failed_attempts, save_plot])\n",
    "box_1 = widgets.VBox([output_1, checkboxes])\n",
    "display(widgets.VBox([box_1, box_2, box_3]))"
   ]
  },
  {
   "cell_type": "markdown",
   "metadata": {},
   "source": [
    "### Attempt #2"
   ]
  },
  {
   "cell_type": "code",
   "execution_count": 16,
   "metadata": {
    "code_folding": [
     0
    ]
   },
   "outputs": [],
   "source": [
    "# Plot lines\n",
    "whichAttempt = 2\n",
    "\n",
    "# Individual attempts plot\n",
    "output = widgets.Output()\n",
    "\n",
    "with output:\n",
    "    fig, ax = plt.subplots(figsize=(10, 6))\n",
    "ax.set_xlabel(\"Distance [m]\")\n",
    "ax.set_ylabel(\"Soc [kWh]\")\n",
    "ax.set_title(\"Average SoC over distance: attempt #\" + str(whichAttempt))\n",
    "ax.grid(True)\n",
    "\n",
    "### Draw the plot objects ###\n",
    "\n",
    "# Plot the individual attempts as transparent lines. At the end of each attempt, plot a dot to mark it\n",
    "driving_lines_class_dict = {}\n",
    "average_individual_grouped = average_individual.groupby([\"attempt\",\"evis_id\",\"user_id\"])\n",
    "for name,group in average_individual_grouped:\n",
    "    if name[0] != whichAttempt: \n",
    "        continue\n",
    "    \n",
    "    individual_attempt = IndividualAttemptLine(ax, name, group)\n",
    "    driving_lines_class_dict[name[2]] = individual_attempt\n",
    "\n",
    "# Plot the average line with +- standard deviation\n",
    "average_group_based_grouped = average_group_based.groupby([\"attempt\",\"evis_id\"])\n",
    "mean_std_class_dict = {}\n",
    "for name,group in average_group_based_grouped:\n",
    "    if name[0] != whichAttempt: \n",
    "        continue\n",
    "    \n",
    "    mean_with_std = MeanWithSTD(ax, name, group)\n",
    "    mean_std_class_dict[name[1]] = mean_with_std       \n",
    "\n",
    "sampled_distances = np.arange(0, 8000 + 1, distanceWindowWidth)\n",
    "\n",
    "# All the averaged values for each individual\n",
    "individual = average_individual[[\"user_id\",\"attempt\",\"evis_id\",\"distance_window\",\"current_soc\"]] # Get the columns we need\n",
    "individual = individual[(individual[\"attempt\"] == whichAttempt) & (individual[\"evis_id\"] == \"DiffAndCOPE1\")] # Get one particular attempt and evis values\n",
    "individual_pivot = individual.pivot(index=\"user_id\", columns=\"distance_window\", values=\"current_soc\") # Get the average speeds for each distance window for each user\n",
    "a1_s1_diff = individual_pivot.round(1)\n",
    "\n",
    "# All the averaged values for each individual\n",
    "individual = average_individual[[\"user_id\",\"attempt\",\"evis_id\",\"distance_window\",\"current_soc\"]] # Get the columns we need\n",
    "individual = individual[(individual[\"attempt\"] == whichAttempt) & (individual[\"evis_id\"] == \"GuessOMeter\")] # Get one particular attempt and evis values\n",
    "individual_pivot = individual.pivot(index=\"user_id\", columns=\"distance_window\", values=\"current_soc\") # Get the average speeds for each distance window for each user\n",
    "a1_s1_guess = individual_pivot.round(1)\n",
    "\n",
    "# IDEA: Check for statistical difference using ttest at each distance window.\n",
    "# If ther's a difference, paint the background in a particular color to highlight that \"here wer have a statistical difference!!!\"\n",
    "        \n",
    "### Road height ###\n",
    "\n",
    "# Plot road height\n",
    "ax2 = ax.twinx()\n",
    "ax2.set_ylim(-10, 30)\n",
    "ax2.grid(True, linestyle=\"--\", linewidth=2)\n",
    "ax2.set_ylabel('Elevation [m]', color=color_road)\n",
    "road_height_plot, = ax2.plot(average_road_height[\"distance_window\"], average_road_height[\"road_height\"], \n",
    "                        color=color_road, zorder=2, linewidth=2, linestyle=\"--\", alpha=1, label=\"Elevation\")\n",
    "\n",
    "# Marker for where the 110 km/h signs are\n",
    "vline = ax.axvline(x=3100, color=\"k\", linestyle=\"-\", linewidth=2, label=\"110 km/h sign\")\n",
    "\n",
    "# Create a legend\n",
    "first_patch = patches.Patch(color=color_guess, label=\"Guess-o-meter\")\n",
    "second_patch = patches.Patch(color=color_diff, label=\"Diff + COPE1\")\n",
    "ax.legend(handles=[first_patch, second_patch, road_height_plot, vline], loc=\"upper right\").set_zorder(2000)\n",
    "\n",
    "ax.set_yticks(np.arange(0,1.3,0.1))\n",
    "\n",
    "# Prevent secondary axis to be drawn ontop of everything\n",
    "ax.set_zorder(1)\n",
    "ax.patch.set_visible(False)"
   ]
  },
  {
   "cell_type": "code",
   "execution_count": 17,
   "metadata": {
    "code_folding": [
     0
    ],
    "scrolled": false
   },
   "outputs": [
    {
     "data": {
      "application/vnd.jupyter.widget-view+json": {
       "model_id": "bd990ab7676d4827bfc86765e957fc36",
       "version_major": 2,
       "version_minor": 0
      },
      "text/plain": [
       "VBox(children=(VBox(children=(Output(), VBox(children=(HBox(children=(Label(value='Guess-o-meter:    '), Check…"
      ]
     },
     "metadata": {},
     "output_type": "display_data"
    }
   ],
   "source": [
    "### Widgets for updating the graph ###\n",
    "\n",
    "def highlightLine(x):\n",
    "    id = int(x.owner.description)\n",
    "    driving_lines_class_dict[id].highlight(x.new)\n",
    "\n",
    "# Allow user to highlight individual attempts\n",
    "checkboxes_guess = [widgets.Label(\"Guess-o-meter:    \")]\n",
    "checkboxes_copediff = [widgets.Label(\"Diff + COPE1:    \")]\n",
    "for i in range(number_of_users):\n",
    "    checkbox = widgets.Checkbox(description=str(all_user_ids[i]), value=False, layout={\"width\":\"50px\"}, indent=False)\n",
    "    checkbox.observe(highlightLine, \"value\")\n",
    "    if all_user_ids[i]%2:\n",
    "        checkboxes_guess.append(checkbox)\n",
    "    else:\n",
    "        checkboxes_copediff.append(checkbox)\n",
    "\n",
    "container_guess_checkboxes = widgets.HBox(checkboxes_guess)\n",
    "container_diffcope_checkboxes = widgets.HBox(checkboxes_copediff)\n",
    "checkboxes = widgets.VBox([container_guess_checkboxes, container_diffcope_checkboxes])\n",
    "\n",
    "# Allow user to update the range of each axis\n",
    "def updateXRange(x):\n",
    "    margin = 200\n",
    "    ax.set_xlim(x.new[0] - margin, x.new[1] + margin)\n",
    "def updateYRange(y):\n",
    "    margin = 0\n",
    "    ax.set_ylim(y.new[0] - margin, y.new[1] + margin)\n",
    "def updateYRangeSecondary(y):\n",
    "    margin = 1\n",
    "    ax2.set_ylim(y.new[0] - margin, y.new[1] + margin)\n",
    "    \n",
    "def createRangeSlider(min, max, step, desc):\n",
    "    return widgets.IntRangeSlider(\n",
    "        value=[min,max],\n",
    "        min=min,\n",
    "        max=max,\n",
    "        step=step,\n",
    "        description=desc\n",
    "    )\n",
    "\n",
    "range_slider_x = createRangeSlider(0,8000, 100, \"X Range\")\n",
    "range_slider_x.observe(updateXRange,\"value\")\n",
    "\n",
    "range_slider_y = createRangeSlider(0,140,10, \"Y Range (left)\")\n",
    "range_slider_y.observe(updateYRange,\"value\")\n",
    "\n",
    "range_slider_y_secondary = createRangeSlider(-10,40,1, \"Y Range (Right)\")\n",
    "range_slider_y_secondary.observe(updateYRangeSecondary,\"value\")\n",
    "\n",
    "# Allow user to select what to show\n",
    "def toggleIndividualAttempts(show):\n",
    "    global individual_attempts_are_hidden # This is needed to change global variables inside a function\n",
    "    individual_attempts_are_hidden = not show.new\n",
    "    for line in driving_lines_class_dict:\n",
    "        driving_lines_class_dict[line].setHide(individual_attempts_are_hidden)\n",
    "            \n",
    "show_individual_attempts_checkbox = widgets.Checkbox(description=\"Show individual attempts\", value=True)\n",
    "show_individual_attempts_checkbox.observe(toggleIndividualAttempts, \"value\")\n",
    "\n",
    "# TODO: Show failed attempts\n",
    "def showFailedAttempts(show):\n",
    "    for line in driving_lines_class_dict:\n",
    "        driving_lines_class_dict[line].showIfFailed()\n",
    "    \n",
    "show_failed_attempts = widgets.Button(description=\"Show failed attempts\")\n",
    "show_failed_attempts.on_click(showFailedAttempts)\n",
    "\n",
    "def saveImage(save):\n",
    "    fig.savefig(\"../figures-local/a2_speed_distance.png\", dpi=300)\n",
    "\n",
    "save_plot = widgets.Button(description=\"Save as image\")\n",
    "save_plot.on_click(saveImage)\n",
    "\n",
    "# TODO: Show successful attempts\n",
    "\n",
    "# TODO: Show average speed\n",
    "\n",
    "def toggleMeanSTD(show):\n",
    "    for plot_obj in mean_std_class_dict:\n",
    "        mean_std_class_dict[plot_obj].setHide(not show.new)\n",
    "\n",
    "toggle_mean_std = widgets.Checkbox(description=\"Show mean & std\", value=True)\n",
    "toggle_mean_std.observe(toggleMeanSTD, \"value\")\n",
    "\n",
    "box_2 = widgets.HBox([range_slider_x, range_slider_y, range_slider_y_secondary])\n",
    "box_3 = widgets.HBox([show_individual_attempts_checkbox, toggle_mean_std, show_failed_attempts, save_plot])\n",
    "box_1 = widgets.VBox([output, checkboxes])\n",
    "\n",
    "display(widgets.VBox([box_1, box_2, box_3]))"
   ]
  },
  {
   "cell_type": "markdown",
   "metadata": {},
   "source": [
    "### Attempt 1 & 2 - Diff + COPE1"
   ]
  },
  {
   "cell_type": "code",
   "execution_count": 18,
   "metadata": {
    "code_folding": [
     0
    ]
   },
   "outputs": [],
   "source": [
    "#\n",
    "# Class for the individual attempt line, modified for showing both attempts\n",
    "class IndividualAttemptLine2:\n",
    "    line_highlight = {\"a\": 1.0, \"w\": 3.0}\n",
    "    line_normal = {\"a\": 0.4, \"w\": 2.0}\n",
    "    marker_highlight = 1.0\n",
    "    marker_normal = 0.7\n",
    "    \n",
    "    def __init__(self, ax, name, group):\n",
    "        self.group = group\n",
    "        self.driver_id = name[2]\n",
    "        self.draw_order_base = self.driver_id * 3\n",
    "        self.is_highlighted = False\n",
    "        self.color = color_diff if name[0] == 2 else color_diff_a1\n",
    "        self.color_strong = color_guess_border if name[0] == 1 else color_diff_border\n",
    "        \n",
    "        # Individual Attempt\n",
    "        self.line = ax.plot(group[\"distance_window\"], group[\"current_soc\"], \n",
    "                            color=self.color, zorder=self.draw_order_base, \n",
    "                            linewidth=self.line_normal[\"w\"], alpha=self.line_normal[\"a\"])[0]\n",
    "        \n",
    "        # Marking for where the user ended up\n",
    "        self.marker = ax.plot(group[\"distance_window\"].iloc[-1], group[\"current_soc\"].iloc[-1], \n",
    "                              color=self.color, zorder=self.draw_order_base + 1, marker=\"o\", markersize=25, \n",
    "                              alpha=self.marker_normal)[0]\n",
    "        \n",
    "        # Mark the endpoint with the user id as well\n",
    "        self.text = ax.text(group[\"distance_window\"].iloc[-1], group[\"current_soc\"].iloc[-1], \n",
    "                            s=self.driver_id, color=\"k\", size=\"small\", zorder=self.draw_order_base + 2, clip_on=True, \n",
    "                            horizontalalignment='center', verticalalignment='center')\n",
    "    \n",
    "    def highlight(self, value):\n",
    "        self.is_highlighted = value\n",
    "        \n",
    "        self.line.set_alpha(self.line_highlight[\"a\"] if self.is_highlighted else self.line_normal[\"a\"])\n",
    "        self.line.set_linewidth(self.line_highlight[\"w\"] if self.is_highlighted else self.line_normal[\"w\"])\n",
    "        self.line.set_zorder(500 + self.driver_id * 3 + 1 if self.is_highlighted else self.driver_id * 3 + 1)\n",
    "        \n",
    "        # Use path effect to see overlaps more clearly\n",
    "        pe1 = [\n",
    "            mpe.Stroke(linewidth=5, foreground=\"k\"),\n",
    "            mpe.Stroke(foreground='white',alpha=1),\n",
    "            mpe.Normal()\n",
    "        ]\n",
    "        self.line.set_path_effects(pe1 if self.is_highlighted else [])\n",
    "        \n",
    "        self.marker.set_alpha(self.marker_highlight if self.is_highlighted else self.marker_normal)\n",
    "        self.marker.set_zorder(500 + self.driver_id * 3 + 2 if self.is_highlighted else self.driver_id * 3 + 2)\n",
    "        self.marker.set_path_effects(pe1 if self.is_highlighted else [])\n",
    "        \n",
    "        self.text.set_zorder((500 + self.driver_id * 3 + 3) if self.is_highlighted else (self.driver_id * 3 + 3))\n",
    "        \n",
    "        # If we highlight and the rest of the lines are hidden -> show it\n",
    "        if self.is_highlighted:\n",
    "            self.text.set_alpha(1)\n",
    "        # If we remove highlight and the rest are hidden -> hide it\n",
    "        if not self.is_highlighted and individual_attempts_are_hidden:\n",
    "            self.setHide(True)\n",
    "    \n",
    "    def setHide(self, hide, force=False):\n",
    "        # If the line is alreday highlighted don't hide it! Unless fore is set to true\n",
    "        if self.is_highlighted and force == False:\n",
    "            return\n",
    "        \n",
    "        self.line.set_alpha(0 if hide else self.line_normal[\"a\"])\n",
    "        self.marker.set_alpha(0 if hide else self.marker_normal)\n",
    "        self.text.set_alpha(0 if hide else 1)\n",
    "\n",
    "    def showIfFailed(self):\n",
    "        if didUserMakeIt(self.group):\n",
    "            self.setHide(True, True)\n",
    "        else:\n",
    "            self.setHide(False)\n",
    "        \n",
    "class MeanWithSTD2:\n",
    "    def __init__(self, ax, name, group):\n",
    "        self.color = color_diff if name[0] == 2 else color_diff_a1\n",
    "        self.attempt = name[0]\n",
    "        self.std_alpha = 0.4\n",
    "        self.color_strong = color_guess_border if name[1] == \"GuessOMeter\" else color_diff_border\n",
    "        \n",
    "        self.average_line = ax.plot(group[\"distance_window\"], group[\"current_soc\"][\"mean\"],\n",
    "            color=self.color, zorder=100, linewidth=2, alpha=1)[0]\n",
    "        \n",
    "        # Use path effect to see overlaps more clearly\n",
    "        self.pe1 = [\n",
    "            mpe.Stroke(linewidth=4, foreground=\"k\"),\n",
    "            mpe.Stroke(foreground='white',alpha=1),\n",
    "            mpe.Normal()\n",
    "        ]\n",
    "        self.average_line.set_path_effects(self.pe1)\n",
    "        \n",
    "        self.zorder = 1 if name[1] == \"GuessOMeter\" else 2\n",
    "        self.std_band = ax.fill_between(\n",
    "            group[\"distance_window\"],\n",
    "            group[\"current_soc\"][\"mean\"] + group[\"current_soc\"][\"std\"],\n",
    "            group[\"current_soc\"][\"mean\"] - group[\"current_soc\"][\"std\"],\n",
    "            color=self.color, alpha=self.std_alpha, zorder=self.zorder)\n",
    "\n",
    "    def setHide(self, hide):\n",
    "        self.average_line.set_alpha(0 if hide else 1)\n",
    "        self.std_band.set_alpha(0 if hide else self.std_alpha)\n",
    "        self.average_line.set_path_effects([] if hide else self.pe1)"
   ]
  },
  {
   "cell_type": "code",
   "execution_count": 19,
   "metadata": {
    "code_folding": [
     0
    ]
   },
   "outputs": [],
   "source": [
    "# Plot lines\n",
    "whichAttempt = 2\n",
    "\n",
    "# Individual attempts plot\n",
    "output = widgets.Output()\n",
    "\n",
    "with output:\n",
    "    fig_3, ax_3 = plt.subplots(figsize=(10, 6))\n",
    "ax_3.set_xlabel(\"Distance [m]\")\n",
    "ax_3.set_ylabel(\"SoC [kwh]\")\n",
    "ax_3.set_title(\"Average SoC over distance traveled: attempt 1 & 2 diff+COPE1\")\n",
    "ax_3.grid(True)\n",
    "\n",
    "### Draw the plot objects ###\n",
    "\n",
    "# Plot the individual attempts as transparent lines. At the end of each attempt, plot a dot to mark it\n",
    "# This should be separated by which attempt it was!\n",
    "driving_lines_obj_dict_3 = {}\n",
    "average_individual_grouped = average_individual.groupby([\"attempt\",\"evis_id\",\"user_id\"])\n",
    "for name,group in average_individual_grouped:\n",
    "    if name[1] != \"DiffAndCOPE1\": \n",
    "        continue\n",
    "    individual_attempt = IndividualAttemptLine2(ax_3, name, group)\n",
    "    # Let the key be id+attempt\n",
    "    id = str(name[2]) + str(name[0])\n",
    "    driving_lines_obj_dict_3[id] = individual_attempt\n",
    "\n",
    "# Plot the average line with +- standard deviation\n",
    "average_group_based_grouped = average_group_based.groupby([\"attempt\",\"evis_id\"])\n",
    "mean_std_obj_dict_3 = {}\n",
    "for name,group in average_group_based_grouped:\n",
    "    if name[1] != \"DiffAndCOPE1\": \n",
    "        continue\n",
    "    \n",
    "    mean_with_std = MeanWithSTD2(ax_3, name, group)\n",
    "    mean_std_obj_dict_3[name[0]] = mean_with_std       \n",
    "\n",
    "sampled_distances = np.arange(0, 8000 + 1, distanceWindowWidth)\n",
    "\n",
    "# All the averaged values for each individual\n",
    "individual = average_individual[[\"user_id\",\"attempt\",\"evis_id\",\"distance_window\",\"current_soc\"]] # Get the columns we need\n",
    "individual = individual[(individual[\"attempt\"] == whichAttempt) & (individual[\"evis_id\"] == \"DiffAndCOPE1\")] # Get one particular attempt and evis values\n",
    "individual_pivot = individual.pivot(index=\"user_id\", columns=\"distance_window\", values=\"current_soc\") # Get the average speeds for each distance window for each user\n",
    "a1_s1_diff = individual_pivot.round(1)\n",
    "\n",
    "# All the averaged values for each individual\n",
    "individual = average_individual[[\"user_id\",\"attempt\",\"evis_id\",\"distance_window\",\"current_soc\"]] # Get the columns we need\n",
    "individual = individual[(individual[\"attempt\"] == whichAttempt) & (individual[\"evis_id\"] == \"GuessOMeter\")] # Get one particular attempt and evis values\n",
    "individual_pivot = individual.pivot(index=\"user_id\", columns=\"distance_window\", values=\"current_soc\") # Get the average speeds for each distance window for each user\n",
    "a1_s1_guess = individual_pivot.round(1)\n",
    "\n",
    "# IDEA: Check for statistical difference using ttest at each distance window.\n",
    "# If ther's a difference, paint the background in a particular color to highlight that \"here wer have a statistical difference!!!\"\n",
    "        \n",
    "### Road height ###\n",
    "\n",
    "# Plot road height\n",
    "ax2_3 = ax_3.twinx()\n",
    "ax2_3.set_ylim(-10, 30)\n",
    "ax2_3.grid(True, linestyle=\"--\", linewidth=2)\n",
    "ax2_3.set_ylabel('Elevation [m]', color=color_road)\n",
    "road_height_plot, = ax2_3.plot(average_road_height[\"distance_window\"], average_road_height[\"road_height\"], \n",
    "                        color=color_road, zorder=2, linewidth=2, linestyle=\"--\", alpha=1, label=\"Elevation\")\n",
    "\n",
    "# Marker for where the 110 km/h signs are\n",
    "vline = ax_3.axvline(x=3100, color=\"k\", linestyle=\"-\", linewidth=2, label=\"110 km/h sign\")\n",
    "\n",
    "# Create a legend\n",
    "first_patch = patches.Patch(color=color_diff_a1, label=\"Diff + COPE1 attempt #1\")\n",
    "second_patch = patches.Patch(color=color_diff, label=\"Diff + COPE1 attempt #2\")\n",
    "ax_3.legend(handles=[first_patch, second_patch, road_height_plot, vline], loc=\"upper right\").set_zorder(2000)\n",
    "\n",
    "ax_3.set_yticks(np.arange(0,1.3,0.1))\n",
    "\n",
    "# Prevent secondary axis to be drawn ontop of everything\n",
    "ax_3.set_zorder(1)\n",
    "ax_3.patch.set_visible(False)"
   ]
  },
  {
   "cell_type": "code",
   "execution_count": 20,
   "metadata": {
    "code_folding": [
     0
    ],
    "scrolled": false
   },
   "outputs": [
    {
     "data": {
      "application/vnd.jupyter.widget-view+json": {
       "model_id": "90a66f3c8d094188b15b87a5077b2020",
       "version_major": 2,
       "version_minor": 0
      },
      "text/plain": [
       "VBox(children=(VBox(children=(Output(), VBox(children=(HBox(children=(Label(value='Diff + COPE1 attempt 1 & 2:…"
      ]
     },
     "metadata": {},
     "output_type": "display_data"
    }
   ],
   "source": [
    "### Widgets for updating the graph ###\n",
    "\n",
    "# Toggle highlight of both attempts\n",
    "def highlightLine(x):\n",
    "    id_1 = x.owner.description+\"1\"\n",
    "    id_2 = x.owner.description+\"2\"\n",
    "    driving_lines_obj_dict_3[id_1].highlight(x.new)\n",
    "    driving_lines_obj_dict_3[id_2].highlight(x.new)\n",
    "\n",
    "# Allow user to highlight individual attempts\n",
    "checkboxes_copediff = [widgets.Label(\"Diff + COPE1 attempt 1 & 2:    \")]\n",
    "for i in range(number_of_users):\n",
    "    checkbox = widgets.Checkbox(description=str(all_user_ids[i]), value=False, layout={\"width\":\"50px\"}, indent=False)\n",
    "    checkbox.observe(highlightLine, \"value\")\n",
    "    if all_user_ids[i]%2:\n",
    "        continue\n",
    "    else:\n",
    "        checkboxes_copediff.append(checkbox)\n",
    "\n",
    "container_diffcope_checkboxes = widgets.HBox(checkboxes_copediff)\n",
    "checkboxes = widgets.VBox([container_diffcope_checkboxes])\n",
    "\n",
    "# Allow user to update the range of each axis\n",
    "def updateXRange(x):\n",
    "    margin = 200\n",
    "    ax_3.set_xlim(x.new[0] - margin, x.new[1] + margin)\n",
    "def updateYRange(y):\n",
    "    margin = 0\n",
    "    ax_3.set_ylim(y.new[0] - margin, y.new[1] + margin)\n",
    "def updateYRangeSecondary(y):\n",
    "    margin = 1\n",
    "    ax2_3.set_ylim(y.new[0] - margin, y.new[1] + margin)\n",
    "    \n",
    "def createRangeSlider(min, max, step, desc):\n",
    "    return widgets.IntRangeSlider(\n",
    "        value=[min,max],\n",
    "        min=min,\n",
    "        max=max,\n",
    "        step=step,\n",
    "        description=desc\n",
    "    )\n",
    "\n",
    "range_slider_x = createRangeSlider(0,8000, 100, \"X Range\")\n",
    "range_slider_x.observe(updateXRange,\"value\")\n",
    "\n",
    "range_slider_y = createRangeSlider(0,140,10, \"Y Range (left)\")\n",
    "range_slider_y.observe(updateYRange,\"value\")\n",
    "\n",
    "range_slider_y_secondary = createRangeSlider(-10,40,1, \"Y Range (Right)\")\n",
    "range_slider_y_secondary.observe(updateYRangeSecondary,\"value\")\n",
    "\n",
    "# Allow user to select what to show\n",
    "def toggleIndividualAttempts(show):\n",
    "    global individual_attempts_are_hidden # This is needed to change global variables inside a function\n",
    "    individual_attempts_are_hidden = not show.new\n",
    "    for line in driving_lines_obj_dict_3:\n",
    "        driving_lines_obj_dict_3[line].setHide(individual_attempts_are_hidden)\n",
    "            \n",
    "show_individual_attempts_checkbox = widgets.Checkbox(description=\"Show individual attempts\", value=True)\n",
    "show_individual_attempts_checkbox.observe(toggleIndividualAttempts, \"value\")\n",
    "\n",
    "# TODO: Show failed attempts\n",
    "def showFailedAttempts(show):\n",
    "    for line in driving_lines_obj_dict_3:\n",
    "        driving_lines_obj_dict_3[line].showIfFailed()\n",
    "    \n",
    "show_failed_attempts = widgets.Button(description=\"Show failed attempts\")\n",
    "show_failed_attempts.on_click(showFailedAttempts)\n",
    "    \n",
    "def saveImage(save):\n",
    "    fig_3.savefig(\"../figures-local/a12_diff_cope_speed_distance.png\", dpi=300)\n",
    "\n",
    "save_plot = widgets.Button(description=\"Save as image\")\n",
    "save_plot.on_click(saveImage)    \n",
    "\n",
    "# TODO: Show successful attempts\n",
    "\n",
    "# TODO: Show average speed\n",
    "\n",
    "def toggleMeanSTD(show):\n",
    "    for plot_obj in mean_std_obj_dict_3:\n",
    "        mean_std_obj_dict_3[plot_obj].setHide(not show.new)\n",
    "\n",
    "toggle_mean_std = widgets.Checkbox(description=\"Show mean & std\", value=True)\n",
    "toggle_mean_std.observe(toggleMeanSTD, \"value\")\n",
    "\n",
    "box_2 = widgets.HBox([range_slider_x, range_slider_y, range_slider_y_secondary])\n",
    "box_3 = widgets.HBox([show_individual_attempts_checkbox, toggle_mean_std, show_failed_attempts, save_plot ])\n",
    "box_1 = widgets.VBox([output, checkboxes])\n",
    "\n",
    "display(widgets.VBox([box_1, box_2, box_3]))"
   ]
  },
  {
   "cell_type": "markdown",
   "metadata": {},
   "source": [
    "### Attempt 1 & 2 - Guess-o-meter"
   ]
  },
  {
   "cell_type": "code",
   "execution_count": 21,
   "metadata": {
    "code_folding": [
     0
    ]
   },
   "outputs": [],
   "source": [
    "#\n",
    "# Class for the individual attempt line, modified for showing both attempts\n",
    "class IndividualAttemptLine3:\n",
    "    line_highlight = {\"a\": 1.0, \"w\": 3.0}\n",
    "    line_normal = {\"a\": 0.4, \"w\": 2.0}\n",
    "    marker_highlight = 1.0\n",
    "    marker_normal = 0.7\n",
    "    \n",
    "    def __init__(self, ax, name, group):\n",
    "        self.group = group\n",
    "        self.driver_id = name[2]\n",
    "        self.draw_order_base = self.driver_id * 3\n",
    "        self.is_highlighted = False\n",
    "        self.color = color_guess if name[0] == 2 else color_guess_a1\n",
    "        self.color_strong = color_guess_border if name[0] == 1 else color_diff_border\n",
    "        \n",
    "        # Individual Attempt\n",
    "        self.line = ax.plot(group[\"distance_window\"], group[\"current_soc\"], \n",
    "                            color=self.color, zorder=self.draw_order_base, \n",
    "                            linewidth=self.line_normal[\"w\"], alpha=self.line_normal[\"a\"])[0]\n",
    "        \n",
    "        # Marking for where the user ended up\n",
    "        self.marker = ax.plot(group[\"distance_window\"].iloc[-1], group[\"current_soc\"].iloc[-1], \n",
    "                              color=self.color, zorder=self.draw_order_base + 1, marker=\"o\", markersize=25, \n",
    "                              alpha=self.marker_normal)[0]\n",
    "        \n",
    "        # Mark the endpoint with the user id as well\n",
    "        self.text = ax.text(group[\"distance_window\"].iloc[-1], group[\"current_soc\"].iloc[-1], \n",
    "                            s=self.driver_id, color=\"k\", size=\"small\", zorder=self.draw_order_base + 2, clip_on=True, \n",
    "                            horizontalalignment='center', verticalalignment='center')\n",
    "    \n",
    "    def highlight(self, value):\n",
    "        self.is_highlighted = value\n",
    "        \n",
    "        self.line.set_alpha(self.line_highlight[\"a\"] if self.is_highlighted else self.line_normal[\"a\"])\n",
    "        self.line.set_linewidth(self.line_highlight[\"w\"] if self.is_highlighted else self.line_normal[\"w\"])\n",
    "        self.line.set_zorder(500 + self.driver_id * 3 + 1 if self.is_highlighted else self.driver_id * 3 + 1)\n",
    "        \n",
    "        # Use path effect to see overlaps more clearly\n",
    "        pe1 = [\n",
    "            mpe.Stroke(linewidth=5, foreground=\"k\"),\n",
    "            mpe.Stroke(foreground='white',alpha=1),\n",
    "            mpe.Normal()\n",
    "        ]\n",
    "        self.line.set_path_effects(pe1 if self.is_highlighted else [])\n",
    "        \n",
    "        self.marker.set_alpha(self.marker_highlight if self.is_highlighted else self.marker_normal)\n",
    "        self.marker.set_zorder(500 + self.driver_id * 3 + 2 if self.is_highlighted else self.driver_id * 3 + 2)\n",
    "        self.marker.set_path_effects(pe1 if self.is_highlighted else [])\n",
    "        \n",
    "        self.text.set_zorder((500 + self.driver_id * 3 + 3) if self.is_highlighted else (self.driver_id * 3 + 3))\n",
    "        \n",
    "        # If we highlight and the rest of the lines are hidden -> show it\n",
    "        if self.is_highlighted:\n",
    "            self.text.set_alpha(1)\n",
    "        # If we remove highlight and the rest are hidden -> hide it\n",
    "        if not self.is_highlighted and individual_attempts_are_hidden:\n",
    "            self.setHide(True)\n",
    "    \n",
    "    def setHide(self, hide, force=False):\n",
    "        # If the line is alreday highlighted don't hide it! Unless fore is set to true\n",
    "        if self.is_highlighted and force == False:\n",
    "            return\n",
    "        \n",
    "        self.line.set_alpha(0 if hide else self.line_normal[\"a\"])\n",
    "        self.marker.set_alpha(0 if hide else self.marker_normal)\n",
    "        self.text.set_alpha(0 if hide else 1)\n",
    "\n",
    "    def showIfFailed(self):\n",
    "        if didUserMakeIt(self.group):\n",
    "            self.setHide(True, True)\n",
    "        else:\n",
    "            self.setHide(False)\n",
    "        \n",
    "class MeanWithSTD3:\n",
    "    def __init__(self, ax, name, group):\n",
    "        self.color = color_guess if name[0] == 2 else color_guess_a1\n",
    "        self.attempt = name[0]\n",
    "        self.std_alpha = 0.4\n",
    "        self.color_strong = color_guess_border if name[1] == \"GuessOMeter\" else color_diff_border\n",
    "        \n",
    "        self.average_line = ax.plot(group[\"distance_window\"], group[\"current_soc\"][\"mean\"],\n",
    "            color=self.color, zorder=100, linewidth=2, alpha=1)[0]\n",
    "        \n",
    "        # Use path effect to see overlaps more clearly\n",
    "        self.pe1 = [\n",
    "            mpe.Stroke(linewidth=4, foreground=\"k\"),\n",
    "            mpe.Stroke(foreground='white',alpha=1),\n",
    "            mpe.Normal()\n",
    "        ]\n",
    "        self.average_line.set_path_effects(self.pe1)\n",
    "        \n",
    "        self.zorder = 1 if name[1] == \"GuessOMeter\" else 2\n",
    "        self.std_band = ax.fill_between(\n",
    "            group[\"distance_window\"],\n",
    "            group[\"current_soc\"][\"mean\"] + group[\"current_soc\"][\"std\"],\n",
    "            group[\"current_soc\"][\"mean\"] - group[\"current_soc\"][\"std\"],\n",
    "            color=self.color, alpha=self.std_alpha, zorder=self.zorder)\n",
    "\n",
    "    def setHide(self, hide):\n",
    "        self.average_line.set_alpha(0 if hide else 1)\n",
    "        self.std_band.set_alpha(0 if hide else self.std_alpha)\n",
    "        self.average_line.set_path_effects([] if hide else self.pe1)"
   ]
  },
  {
   "cell_type": "markdown",
   "metadata": {},
   "source": [
    "TODO: Include the average Range Estimate the participants saw"
   ]
  },
  {
   "cell_type": "code",
   "execution_count": 22,
   "metadata": {
    "code_folding": [
     0
    ],
    "scrolled": false
   },
   "outputs": [],
   "source": [
    "# Plot lines\n",
    "whichAttempt = 2\n",
    "\n",
    "# Individual attempts plot\n",
    "output = widgets.Output()\n",
    "\n",
    "with output:\n",
    "    fig_4, ax_4 = plt.subplots(figsize=(10, 6))\n",
    "ax_4.set_xlabel(\"Distance [m]\")\n",
    "ax_4.set_ylabel(\"SoC [kWh]\")\n",
    "ax_4.set_title(\"Average SoC over distance traveled: attempt 1 & 2 Guess-o-meter\")\n",
    "ax_4.grid(True)\n",
    "\n",
    "### Draw the plot objects ###\n",
    "\n",
    "# Plot the individual attempts as transparent lines. At the end of each attempt, plot a dot to mark it\n",
    "# This should be separated by which attempt it was!\n",
    "driving_lines_obj_dict_4 = {}\n",
    "average_individual_grouped = average_individual.groupby([\"attempt\",\"evis_id\",\"user_id\"])\n",
    "for name,group in average_individual_grouped:\n",
    "    if name[1] != \"GuessOMeter\": \n",
    "        continue\n",
    "    \n",
    "    individual_attempt = IndividualAttemptLine3(ax_4, name, group)\n",
    "    # Let the key be id+attempt\n",
    "    id = str(name[2]) + str(name[0])\n",
    "    driving_lines_obj_dict_4[id] = individual_attempt\n",
    "\n",
    "# Plot the average line with +- standard deviation\n",
    "average_group_based_grouped = average_group_based.groupby([\"attempt\",\"evis_id\"])\n",
    "mean_std_obj_dict_4 = {}\n",
    "for name,group in average_group_based_grouped:\n",
    "    if name[1] != \"GuessOMeter\": \n",
    "        continue\n",
    "    \n",
    "    mean_with_std = MeanWithSTD3(ax_4, name, group)\n",
    "    mean_std_obj_dict_4[name[0]] = mean_with_std       \n",
    "\n",
    "sampled_distances = np.arange(0, 8000 + 1, distanceWindowWidth)\n",
    "\n",
    "# All the averaged values for each individual\n",
    "individual = average_individual[[\"user_id\",\"attempt\",\"evis_id\",\"distance_window\",\"current_soc\"]] # Get the columns we need\n",
    "individual = individual[(individual[\"attempt\"] == whichAttempt) & (individual[\"evis_id\"] == \"DiffAndCOPE1\")] # Get one particular attempt and evis values\n",
    "individual_pivot = individual.pivot(index=\"user_id\", columns=\"distance_window\", values=\"current_soc\") # Get the average speeds for each distance window for each user\n",
    "a1_s1_diff = individual_pivot.round(1)\n",
    "\n",
    "# All the averaged values for each individual\n",
    "individual = average_individual[[\"user_id\",\"attempt\",\"evis_id\",\"distance_window\",\"current_soc\"]] # Get the columns we need\n",
    "individual = individual[(individual[\"attempt\"] == whichAttempt) & (individual[\"evis_id\"] == \"GuessOMeter\")] # Get one particular attempt and evis values\n",
    "individual_pivot = individual.pivot(index=\"user_id\", columns=\"distance_window\", values=\"current_soc\") # Get the average speeds for each distance window for each user\n",
    "a1_s1_guess = individual_pivot.round(1)\n",
    "\n",
    "# IDEA: Check for statistical difference using ttest at each distance window.\n",
    "# If ther's a difference, paint the background in a particular color to highlight that \"here wer have a statistical difference!!!\"\n",
    "        \n",
    "### Road height ###\n",
    "\n",
    "# Plot road height\n",
    "ax2_4 = ax_4.twinx()\n",
    "ax2_4.set_ylim(-10, 30)\n",
    "ax2_4.grid(True, linestyle=\"--\", linewidth=2)\n",
    "ax2_4.set_ylabel('Elevation [m]', color=color_road)\n",
    "road_height_plot, = ax2_4.plot(average_road_height[\"distance_window\"], average_road_height[\"road_height\"], \n",
    "                        color=color_road, zorder=2, linewidth=2, linestyle=\"--\", alpha=1, label=\"Elevation\")\n",
    "\n",
    "# Marker for where the 110 km/h signs are\n",
    "vline = ax_4.axvline(x=3100, color=\"k\", linestyle=\"-\", linewidth=2, label=\"110 km/h sign\")\n",
    "\n",
    "# Create a legend\n",
    "first_patch = patches.Patch(color=color_guess_a1, label=\"Guess-o-meter attempt #1\")\n",
    "second_patch = patches.Patch(color=color_guess, label=\"Guess-o-meter attempt #2\")\n",
    "ax_4.legend(handles=[first_patch, second_patch, road_height_plot, vline], loc=\"upper right\").set_zorder(2000)\n",
    "\n",
    "ax_4.set_yticks(np.arange(0,1.3,0.1))\n",
    "\n",
    "# Prevent secondary axis to be drawn ontop of everything\n",
    "ax_4.set_zorder(1)\n",
    "ax_4.patch.set_visible(False)"
   ]
  },
  {
   "cell_type": "code",
   "execution_count": 23,
   "metadata": {
    "code_folding": [
     0
    ],
    "scrolled": false
   },
   "outputs": [
    {
     "data": {
      "application/vnd.jupyter.widget-view+json": {
       "model_id": "612336b1c3ec40f69cb56770e2ca30e8",
       "version_major": 2,
       "version_minor": 0
      },
      "text/plain": [
       "VBox(children=(VBox(children=(Output(), VBox(children=(HBox(children=(Label(value='Diff + COPE1 attempt 1 & 2:…"
      ]
     },
     "metadata": {},
     "output_type": "display_data"
    }
   ],
   "source": [
    "### Widgets for updating the graph ###\n",
    "\n",
    "# Toggle highlight of both attempts\n",
    "def highlightLine(x):\n",
    "    id_1 = x.owner.description+\"1\"\n",
    "    id_2 = x.owner.description+\"2\"\n",
    "    driving_lines_obj_dict_4[id_1].highlight(x.new)\n",
    "    driving_lines_obj_dict_4[id_2].highlight(x.new)\n",
    "\n",
    "# Allow user to highlight individual attempts\n",
    "checkboxes_guessometer = [widgets.Label(\"Diff + COPE1 attempt 1 & 2:    \")]\n",
    "for i in range(number_of_users):\n",
    "    checkbox = widgets.Checkbox(description=str(all_user_ids[i]), value=False, layout={\"width\":\"50px\"}, indent=False)\n",
    "    checkbox.observe(highlightLine, \"value\")\n",
    "    if all_user_ids[i]%2:\n",
    "        checkboxes_guessometer.append(checkbox)\n",
    "\n",
    "container_diffcope_checkboxes = widgets.HBox(checkboxes_guessometer)\n",
    "checkboxes = widgets.VBox([container_diffcope_checkboxes])\n",
    "\n",
    "# Allow user to update the range of each axis\n",
    "def updateXRange(x):\n",
    "    margin = 200\n",
    "    ax_4.set_xlim(x.new[0] - margin, x.new[1] + margin)\n",
    "def updateYRange(y):\n",
    "    margin = 0\n",
    "    ax_4.set_ylim(y.new[0] - margin, y.new[1] + margin)\n",
    "def updateYRangeSecondary(y):\n",
    "    margin = 1\n",
    "    ax2_4.set_ylim(y.new[0] - margin, y.new[1] + margin)\n",
    "    \n",
    "def createRangeSlider(min, max, step, desc):\n",
    "    return widgets.IntRangeSlider(\n",
    "        value=[min,max],\n",
    "        min=min,\n",
    "        max=max,\n",
    "        step=step,\n",
    "        description=desc\n",
    "    )\n",
    "\n",
    "range_slider_x = createRangeSlider(0,8000, 100, \"X Range\")\n",
    "range_slider_x.observe(updateXRange,\"value\")\n",
    "\n",
    "range_slider_y = createRangeSlider(0,140,10, \"Y Range (left)\")\n",
    "range_slider_y.observe(updateYRange,\"value\")\n",
    "\n",
    "range_slider_y_secondary = createRangeSlider(-10,40,1, \"Y Range (Right)\")\n",
    "range_slider_y_secondary.observe(updateYRangeSecondary,\"value\")\n",
    "\n",
    "# Allow user to select what to show\n",
    "def toggleIndividualAttempts(show):\n",
    "    global individual_attempts_are_hidden # This is needed to change global variables inside a function\n",
    "    individual_attempts_are_hidden = not show.new\n",
    "    for line in driving_lines_obj_dict_4:\n",
    "        driving_lines_obj_dict_4[line].setHide(individual_attempts_are_hidden)\n",
    "            \n",
    "show_individual_attempts_checkbox = widgets.Checkbox(description=\"Show individual attempts\", value=True)\n",
    "show_individual_attempts_checkbox.observe(toggleIndividualAttempts, \"value\")\n",
    "\n",
    "# TODO: Show failed attempts\n",
    "def showFailedAttempts(show):\n",
    "    for line in driving_lines_obj_dict_4:\n",
    "        driving_lines_obj_dict_4[line].showIfFailed()\n",
    "    \n",
    "show_failed_attempts = widgets.Button(description=\"Show failed attempts\")\n",
    "show_failed_attempts.on_click(showFailedAttempts)\n",
    "    \n",
    "def saveImage(save):\n",
    "    fig_4.savefig(\"../figures-local/a12_guess_speed_distance.png\", dpi=300)\n",
    "\n",
    "save_plot = widgets.Button(description=\"Save as image\")\n",
    "save_plot.on_click(saveImage)\n",
    "    \n",
    "# TODO: Show successful attempts\n",
    "\n",
    "# TODO: Show average speed\n",
    "\n",
    "def toggleMeanSTD(show):\n",
    "    for plot_obj in mean_std_obj_dict_4:\n",
    "        mean_std_obj_dict_4[plot_obj].setHide(not show.new)\n",
    "\n",
    "toggle_mean_std = widgets.Checkbox(description=\"Show mean & std\", value=True)\n",
    "toggle_mean_std.observe(toggleMeanSTD, \"value\")\n",
    "\n",
    "box_2 = widgets.HBox([range_slider_x, range_slider_y, range_slider_y_secondary])\n",
    "box_3 = widgets.HBox([show_individual_attempts_checkbox, toggle_mean_std, show_failed_attempts, save_plot])\n",
    "box_1 = widgets.VBox([output, checkboxes])\n",
    "\n",
    "display(widgets.VBox([box_1, box_2, box_3]))"
   ]
  },
  {
   "cell_type": "markdown",
   "metadata": {},
   "source": [
    "### Attempt 1 & 2 - Guess-o-meter with range estimate"
   ]
  },
  {
   "cell_type": "code",
   "execution_count": 31,
   "metadata": {
    "code_folding": [
     0
    ]
   },
   "outputs": [],
   "source": [
    "#\n",
    "# Class for the individual attempt line, modified for showing both attempts\n",
    "class IndividualAttemptLine3:\n",
    "    line_highlight = {\"a\": 1.0, \"w\": 3.0}\n",
    "    line_normal = {\"a\": 0.4, \"w\": 2.0}\n",
    "    marker_highlight = 1.0\n",
    "    marker_normal = 0.7\n",
    "    \n",
    "    def __init__(self, ax, name, group):\n",
    "        self.group = group\n",
    "        self.driver_id = name[2]\n",
    "        self.draw_order_base = self.driver_id * 3\n",
    "        self.is_highlighted = False\n",
    "        self.color = color_guess if name[0] == 2 else color_guess_a1\n",
    "        self.color_strong = color_guess_border if name[0] == 1 else color_diff_border\n",
    "        \n",
    "        # Individual Attempt\n",
    "        self.line = ax.plot(group[\"distance_window\"], group[\"current_soc\"], \n",
    "                            color=self.color, zorder=self.draw_order_base, \n",
    "                            linewidth=self.line_normal[\"w\"], alpha=self.line_normal[\"a\"])[0]\n",
    "        \n",
    "        # Marking for where the user ended up\n",
    "        self.marker = ax.plot(group[\"distance_window\"].iloc[-1], group[\"current_soc\"].iloc[-1], \n",
    "                              color=self.color, zorder=self.draw_order_base + 1, marker=\"o\", markersize=25, \n",
    "                              alpha=self.marker_normal)[0]\n",
    "        \n",
    "        # Mark the endpoint with the user id as well\n",
    "        self.text = ax.text(group[\"distance_window\"].iloc[-1], group[\"current_soc\"].iloc[-1], \n",
    "                            s=self.driver_id, color=\"k\", size=\"small\", zorder=self.draw_order_base + 2, clip_on=True, \n",
    "                            horizontalalignment='center', verticalalignment='center')\n",
    "    \n",
    "    def highlight(self, value):\n",
    "        self.is_highlighted = value\n",
    "        \n",
    "        self.line.set_alpha(self.line_highlight[\"a\"] if self.is_highlighted else self.line_normal[\"a\"])\n",
    "        self.line.set_linewidth(self.line_highlight[\"w\"] if self.is_highlighted else self.line_normal[\"w\"])\n",
    "        self.line.set_zorder(500 + self.driver_id * 3 + 1 if self.is_highlighted else self.driver_id * 3 + 1)\n",
    "        \n",
    "        # Use path effect to see overlaps more clearly\n",
    "        pe1 = [\n",
    "            mpe.Stroke(linewidth=5, foreground=\"k\"),\n",
    "            mpe.Stroke(foreground='white',alpha=1),\n",
    "            mpe.Normal()\n",
    "        ]\n",
    "        self.line.set_path_effects(pe1 if self.is_highlighted else [])\n",
    "        \n",
    "        self.marker.set_alpha(self.marker_highlight if self.is_highlighted else self.marker_normal)\n",
    "        self.marker.set_zorder(500 + self.driver_id * 3 + 2 if self.is_highlighted else self.driver_id * 3 + 2)\n",
    "        self.marker.set_path_effects(pe1 if self.is_highlighted else [])\n",
    "        \n",
    "        self.text.set_zorder((500 + self.driver_id * 3 + 3) if self.is_highlighted else (self.driver_id * 3 + 3))\n",
    "        \n",
    "        # If we highlight and the rest of the lines are hidden -> show it\n",
    "        if self.is_highlighted:\n",
    "            self.text.set_alpha(1)\n",
    "        # If we remove highlight and the rest are hidden -> hide it\n",
    "        if not self.is_highlighted and individual_attempts_are_hidden:\n",
    "            self.setHide(True)\n",
    "    \n",
    "    def setHide(self, hide, force=False):\n",
    "        # If the line is alreday highlighted don't hide it! Unless fore is set to true\n",
    "        if self.is_highlighted and force == False:\n",
    "            return\n",
    "        \n",
    "        self.line.set_alpha(0 if hide else self.line_normal[\"a\"])\n",
    "        self.marker.set_alpha(0 if hide else self.marker_normal)\n",
    "        self.text.set_alpha(0 if hide else 1)\n",
    "\n",
    "    def showIfFailed(self):\n",
    "        if didUserMakeIt(self.group):\n",
    "            self.setHide(True, True)\n",
    "        else:\n",
    "            self.setHide(False)\n",
    "        \n",
    "class MeanWithSTD3:\n",
    "    def __init__(self, ax, name, group):\n",
    "        self.color = color_guess if name[0] == 2 else color_guess_a1\n",
    "        self.attempt = name[0]\n",
    "        self.std_alpha = 0.4\n",
    "        self.color_strong = color_guess_border if name[1] == \"GuessOMeter\" else color_diff_border\n",
    "        \n",
    "        self.average_line = ax.plot(group[\"distance_window\"], group[\"current_soc\"][\"mean\"],\n",
    "            color=self.color, zorder=100, linewidth=2, alpha=1)[0]\n",
    "        \n",
    "        # Use path effect to see overlaps more clearly\n",
    "        self.pe1 = [\n",
    "            mpe.Stroke(linewidth=4, foreground=\"k\"),\n",
    "            mpe.Stroke(foreground='white',alpha=1),\n",
    "            mpe.Normal()\n",
    "        ]\n",
    "        self.average_line.set_path_effects(self.pe1)\n",
    "        \n",
    "        self.zorder = 1 if name[1] == \"GuessOMeter\" else 2\n",
    "        self.std_band = ax.fill_between(\n",
    "            group[\"distance_window\"],\n",
    "            group[\"current_soc\"][\"mean\"] + group[\"current_soc\"][\"std\"],\n",
    "            group[\"current_soc\"][\"mean\"] - group[\"current_soc\"][\"std\"],\n",
    "            color=self.color, alpha=self.std_alpha, zorder=self.zorder)\n",
    "\n",
    "    def setHide(self, hide):\n",
    "        self.average_line.set_alpha(0 if hide else 1)\n",
    "        self.std_band.set_alpha(0 if hide else self.std_alpha)\n",
    "        self.average_line.set_path_effects([] if hide else self.pe1)"
   ]
  },
  {
   "cell_type": "code",
   "execution_count": 49,
   "metadata": {
    "code_folding": [
     0
    ],
    "scrolled": false
   },
   "outputs": [],
   "source": [
    "# Plot lines\n",
    "whichAttempt = 2\n",
    "\n",
    "# Individual attempts plot\n",
    "output = widgets.Output()\n",
    "\n",
    "with output:\n",
    "    fig_4, ax_4 = plt.subplots(figsize=(10, 6))\n",
    "ax_4.set_xlabel(\"Distance [m]\")\n",
    "ax_4.set_ylabel(\"SoC [kWh]\")\n",
    "ax_4.set_title(\"Average SoC over distance traveled: attempt 1 & 2 Guess-o-meter\")\n",
    "ax_4.grid(True)\n",
    "\n",
    "### Draw the plot objects ###\n",
    "\n",
    "# Plot the individual attempts as transparent lines. At the end of each attempt, plot a dot to mark it\n",
    "# This should be separated by which attempt it was!\n",
    "driving_lines_obj_dict_4 = {}\n",
    "average_individual_grouped = average_individual.groupby([\"attempt\",\"evis_id\",\"user_id\"])\n",
    "for name,group in average_individual_grouped:\n",
    "    if name[1] != \"GuessOMeter\": \n",
    "        continue\n",
    "    \n",
    "    individual_attempt = IndividualAttemptLine3(ax_4, name, group)\n",
    "    # Let the key be id+attempt\n",
    "    id = str(name[2]) + str(name[0])\n",
    "    driving_lines_obj_dict_4[id] = individual_attempt\n",
    "\n",
    "# Plot the average line with +- standard deviation\n",
    "average_group_based_grouped = average_group_based.groupby([\"attempt\",\"evis_id\"])\n",
    "mean_std_obj_dict_4 = {}\n",
    "for name,group in average_group_based_grouped:\n",
    "    if name[1] != \"GuessOMeter\": \n",
    "        continue\n",
    "    \n",
    "    mean_with_std = MeanWithSTD3(ax_4, name, group)\n",
    "    mean_std_obj_dict_4[name[0]] = mean_with_std       \n",
    "\n",
    "sampled_distances = np.arange(0, 8000 + 1, distanceWindowWidth)\n",
    "\n",
    "# All the averaged values for each individual\n",
    "individual = average_individual[[\"user_id\",\"attempt\",\"evis_id\",\"distance_window\",\"current_soc\"]] # Get the columns we need\n",
    "individual = individual[(individual[\"attempt\"] == whichAttempt) & (individual[\"evis_id\"] == \"DiffAndCOPE1\")] # Get one particular attempt and evis values\n",
    "individual_pivot = individual.pivot(index=\"user_id\", columns=\"distance_window\", values=\"current_soc\") # Get the average speeds for each distance window for each user\n",
    "a1_s1_diff = individual_pivot.round(1)\n",
    "\n",
    "# All the averaged values for each individual\n",
    "individual = average_individual[[\"user_id\",\"attempt\",\"evis_id\",\"distance_window\",\"current_soc\"]] # Get the columns we need\n",
    "individual = individual[(individual[\"attempt\"] == whichAttempt) & (individual[\"evis_id\"] == \"GuessOMeter\")] # Get one particular attempt and evis values\n",
    "individual_pivot = individual.pivot(index=\"user_id\", columns=\"distance_window\", values=\"current_soc\") # Get the average speeds for each distance window for each user\n",
    "a1_s1_guess = individual_pivot.round(1)\n",
    "\n",
    "# IDEA: Check for statistical difference using ttest at each distance window.\n",
    "# If ther's a difference, paint the background in a particular color to highlight that \"here wer have a statistical difference!!!\"\n",
    "        \n",
    "### Road height ###\n",
    "\n",
    "# Plot road height\n",
    "ax2_4 = ax_4.twinx()\n",
    "ax2_4.set_ylim(-10, 10)\n",
    "ax2_4.set_yticks(np.arange(-10,11,1))\n",
    "ax2_4.set_yticks([0,0,0,0,0,0,0,0,0,0,0,1,2,3,4,5,6,7,8,9,10])\n",
    "ax2_4.grid(True, linestyle=\"-\", linewidth=1)\n",
    "ax2_4.set_ylabel('Range estimate [km]', color=color_road)\n",
    "#road_height_plot, = ax2_4.plot(average_road_height[\"distance_window\"], average_road_height[\"road_height\"], \n",
    "#                        color=color_road, zorder=2, linewidth=2, linestyle=\"--\", alpha=1, label=\"Range estimate\")\n",
    "\n",
    "\n",
    "# TODO: Add average range estimate shown to the users!\n",
    "# In Unity I'm using toString(\"F0\") which cutts of all decimals without rounding!\n",
    "\n",
    "average_seen_range_estimate = average_group_based[(average_group_based[\"evis_id\"] == \"GuessOMeter\") & (average_group_based[\"attempt\"] == 1)][[\"distance_window\",\"range_estimate\"]]\n",
    "average_seen_range_estimate[\"seen_range_estimate\"] = average_seen_range_estimate[\"range_estimate\"][\"mean\"].apply(lambda x: int(x))\n",
    "range_estimate_a1 = ax2_4.plot(average_seen_range_estimate[\"distance_window\"], average_seen_range_estimate[\"seen_range_estimate\"],\n",
    "                        color=color_guess_a1, zorder=20000, linewidth=3, linestyle=\"--\", alpha=1, label=\"Range estimate attempt #1\")[0]\n",
    "\n",
    "average_seen_range_estimate = average_group_based[(average_group_based[\"evis_id\"] == \"GuessOMeter\") & (average_group_based[\"attempt\"] == 2)][[\"distance_window\",\"range_estimate\"]]\n",
    "average_seen_range_estimate[\"seen_range_estimate\"] = average_seen_range_estimate[\"range_estimate\"][\"mean\"].apply(lambda x: int(x))\n",
    "range_estimate_a2 = ax2_4.plot(average_seen_range_estimate[\"distance_window\"], average_seen_range_estimate[\"seen_range_estimate\"],\n",
    "                        color=color_guess, zorder=20000, linewidth=3, linestyle=\"--\", alpha=1, label=\"Range estimate attempt #2\")[0]\n",
    "\n",
    "\n",
    "# Marker for where the 110 km/h signs are\n",
    "vline = ax_4.axvline(x=3100, color=\"k\", linestyle=\"-\", linewidth=2, label=\"110 km/h sign\")\n",
    "\n",
    "# Create a legend\n",
    "first_patch = patches.Patch(color=color_guess_a1, label=\"Guess-o-meter attempt #1\")\n",
    "second_patch = patches.Patch(color=color_guess, label=\"Guess-o-meter attempt #2\")\n",
    "ax_4.legend(handles=[first_patch, second_patch, range_estimate_a1, range_estimate_a2, vline], loc=\"lower left\").set_zorder(2000)\n",
    "\n",
    "ax_4.set_yticks(np.arange(0,1.3,0.1))\n",
    "\n",
    "# Prevent secondary axis to be drawn ontop of everything\n",
    "ax_4.set_zorder(1)\n",
    "ax_4.patch.set_visible(False)"
   ]
  },
  {
   "cell_type": "code",
   "execution_count": 50,
   "metadata": {
    "code_folding": [
     0
    ],
    "scrolled": false
   },
   "outputs": [
    {
     "data": {
      "application/vnd.jupyter.widget-view+json": {
       "model_id": "62faba18edcd4a2ba98d05c8a6fc8dd2",
       "version_major": 2,
       "version_minor": 0
      },
      "text/plain": [
       "VBox(children=(VBox(children=(Output(outputs=({'output_type': 'display_data', 'data': {'text/plain': \"Canvas(t…"
      ]
     },
     "metadata": {},
     "output_type": "display_data"
    }
   ],
   "source": [
    "### Widgets for updating the graph ###\n",
    "\n",
    "# Toggle highlight of both attempts\n",
    "def highlightLine(x):\n",
    "    id_1 = x.owner.description+\"1\"\n",
    "    id_2 = x.owner.description+\"2\"\n",
    "    driving_lines_obj_dict_4[id_1].highlight(x.new)\n",
    "    driving_lines_obj_dict_4[id_2].highlight(x.new)\n",
    "\n",
    "# Allow user to highlight individual attempts\n",
    "checkboxes_guessometer = [widgets.Label(\"Diff + COPE1 attempt 1 & 2:    \")]\n",
    "for i in range(number_of_users):\n",
    "    checkbox = widgets.Checkbox(description=str(all_user_ids[i]), value=False, layout={\"width\":\"50px\"}, indent=False)\n",
    "    checkbox.observe(highlightLine, \"value\")\n",
    "    if all_user_ids[i]%2:\n",
    "        checkboxes_guessometer.append(checkbox)\n",
    "\n",
    "container_diffcope_checkboxes = widgets.HBox(checkboxes_guessometer)\n",
    "checkboxes = widgets.VBox([container_diffcope_checkboxes])\n",
    "\n",
    "# Allow user to update the range of each axis\n",
    "def updateXRange(x):\n",
    "    margin = 200\n",
    "    ax_4.set_xlim(x.new[0] - margin, x.new[1] + margin)\n",
    "def updateYRange(y):\n",
    "    margin = 0\n",
    "    ax_4.set_ylim(y.new[0] - margin, y.new[1] + margin)\n",
    "def updateYRangeSecondary(y):\n",
    "    margin = 1\n",
    "    ax2_4.set_ylim(y.new[0] - margin, y.new[1] + margin)\n",
    "    \n",
    "def createRangeSlider(min, max, step, desc):\n",
    "    return widgets.IntRangeSlider(\n",
    "        value=[min,max],\n",
    "        min=min,\n",
    "        max=max,\n",
    "        step=step,\n",
    "        description=desc\n",
    "    )\n",
    "\n",
    "range_slider_x = createRangeSlider(0,8000, 100, \"X Range\")\n",
    "range_slider_x.observe(updateXRange,\"value\")\n",
    "\n",
    "range_slider_y = createRangeSlider(0,140,10, \"Y Range (left)\")\n",
    "range_slider_y.observe(updateYRange,\"value\")\n",
    "\n",
    "range_slider_y_secondary = createRangeSlider(-10,40,1, \"Y Range (Right)\")\n",
    "range_slider_y_secondary.observe(updateYRangeSecondary,\"value\")\n",
    "\n",
    "# Allow user to select what to show\n",
    "def toggleIndividualAttempts(show):\n",
    "    global individual_attempts_are_hidden # This is needed to change global variables inside a function\n",
    "    individual_attempts_are_hidden = not show.new\n",
    "    for line in driving_lines_obj_dict_4:\n",
    "        driving_lines_obj_dict_4[line].setHide(individual_attempts_are_hidden)\n",
    "            \n",
    "show_individual_attempts_checkbox = widgets.Checkbox(description=\"Show individual attempts\", value=True)\n",
    "show_individual_attempts_checkbox.observe(toggleIndividualAttempts, \"value\")\n",
    "\n",
    "# TODO: Show failed attempts\n",
    "def showFailedAttempts(show):\n",
    "    for line in driving_lines_obj_dict_4:\n",
    "        driving_lines_obj_dict_4[line].showIfFailed()\n",
    "    \n",
    "show_failed_attempts = widgets.Button(description=\"Show failed attempts\")\n",
    "show_failed_attempts.on_click(showFailedAttempts)\n",
    "    \n",
    "def saveImage(save):\n",
    "    fig_4.savefig(\"../figures-local/a12_guess_speed_distance.png\", dpi=300)\n",
    "\n",
    "save_plot = widgets.Button(description=\"Save as image\")\n",
    "save_plot.on_click(saveImage)\n",
    "    \n",
    "# TODO: Show successful attempts\n",
    "\n",
    "# TODO: Show average speed\n",
    "\n",
    "def toggleMeanSTD(show):\n",
    "    for plot_obj in mean_std_obj_dict_4:\n",
    "        mean_std_obj_dict_4[plot_obj].setHide(not show.new)\n",
    "\n",
    "toggle_mean_std = widgets.Checkbox(description=\"Show mean & std\", value=True)\n",
    "toggle_mean_std.observe(toggleMeanSTD, \"value\")\n",
    "\n",
    "box_2 = widgets.HBox([range_slider_x, range_slider_y, range_slider_y_secondary])\n",
    "box_3 = widgets.HBox([show_individual_attempts_checkbox, toggle_mean_std, show_failed_attempts, save_plot])\n",
    "box_1 = widgets.VBox([output, checkboxes])\n",
    "\n",
    "display(widgets.VBox([box_1, box_2, box_3]))"
   ]
  },
  {
   "cell_type": "markdown",
   "metadata": {},
   "source": [
    "## kW over distance"
   ]
  },
  {
   "cell_type": "markdown",
   "metadata": {},
   "source": [
    "# Average speed over specific sections of the track\n",
    "Answers from Research gate about ideas:\n",
    "* Dave Morse:  \n",
    "    Run ordinary independent t-test at each case's average speed over some specific interval **for which you have all the data** (Ask question regarding this)  \n",
    "    Run ordinary independent t-test on each case's average speed for the duration of the drive  \n",
    "    Equality of variance test: Calculate variance for each user at each 50m interval, and compare these between groups with a t-test (most likely will have to use robust t-method like Welch, or bootstrapped error estimate).\n",
    "    Fancier method: Apply a repeated measures framework, and test whether there are any trends in speeds. And determine whether the prevalence of one trend was comparable across groups\n",
    "    Completion test: use Binomial test\n",
    "    \n",
    "* Rainer Duesing\n",
    "    Multilevel model (ML)\n",
    "    "
   ]
  },
  {
   "cell_type": "markdown",
   "metadata": {},
   "source": [
    "## Visualized as a bar chart with STD\n",
    "\n",
    "S1 = [0m, 3100m]   \n",
    "S2 = [3100m, 6350m]  \n",
    "S3 = [6350m, 8000m]  "
   ]
  },
  {
   "cell_type": "code",
   "execution_count": 53,
   "metadata": {
    "code_folding": [
     0
    ],
    "scrolled": false
   },
   "outputs": [
    {
     "data": {
      "text/plain": [
       "Text(0.5, 1.0, 'Average SoC at section S1, S2, S3 for both EVIS during both attempts')"
      ]
     },
     "execution_count": 53,
     "metadata": {},
     "output_type": "execute_result"
    }
   ],
   "source": [
    "# Plot average speed over certain sections\n",
    "def getSectionSpecificData(window, evis, attempt):   \n",
    "    # Select all individual drives within the given distance window span, evis, and attempt nr\n",
    "    return average_individual[\n",
    "        (average_individual.distance_window > window[0]) & (average_individual.distance_window < window[1]) &\n",
    "        (average_individual.evis_id == evis) &\n",
    "        (average_individual.attempt == attempt)\n",
    "    ]\n",
    "\n",
    "sections = [[0, 3100], [3100, 6350], [6350, 8000]]\n",
    "\n",
    "mean_std_data_frames = []\n",
    "for j,section in enumerate(sections):\n",
    "    diff_values = []\n",
    "    guess_values = []\n",
    "    # Get the values for both diff & guess at attempt 1 & 2\n",
    "    for i in range(2):\n",
    "        diff = getSectionSpecificData(section, \"DiffAndCOPE1\", i+1)\n",
    "        diff = diff.describe()\n",
    "        # Create a new dataframe containing only what we need\n",
    "        speed_vals_diff = diff.loc[[\"mean\",\"std\"]][[\"current_soc\"]] # Get the mean and std speed\n",
    "        speed_vals_diff.columns = [\"a\" + str(i+1) + \"_s\" + str(j+1) + \"_diff_SoC\"]\n",
    "        speed_vals_diff = speed_vals_diff.T\n",
    "\n",
    "        guess = getSectionSpecificData(section, \"GuessOMeter\", i+1)\n",
    "        guess = guess.describe()\n",
    "        speed_vals_guess = guess.loc[[\"mean\",\"std\"]][[\"current_soc\"]]\n",
    "        speed_vals_guess.columns = [\"a\" + str(i+1) + \"_s\" + str(j+1) + \"_guess_SoC\"]\n",
    "        speed_vals_guess = speed_vals_guess.T\n",
    "\n",
    "        diff_values.append(speed_vals_diff)\n",
    "        guess_values.append(speed_vals_guess)\n",
    "\n",
    "    mean_std_data_frames.extend(diff_values)\n",
    "    mean_std_data_frames.extend(guess_values)\n",
    "        \n",
    "section_data = pd.concat(mean_std_data_frames)\n",
    "    \n",
    "### Plot the bar chart with mean speeds over given road sections ###\n",
    "\n",
    "# Individual attempts plot\n",
    "output = widgets.Output()\n",
    "\n",
    "with output:\n",
    "    fig_bars, ax_bars = plt.subplots(figsize=(10, 6))\n",
    "\n",
    "evis = [\"COPE1 + Diff\", \"Guess-o-meter\"]\n",
    "x_pos = np.arange(len(sections))\n",
    "width = 0.22\n",
    "capsize=10\n",
    "\n",
    "# Plot each section separately\n",
    "for i in range(int(len(sections))):\n",
    "    row = i * 4\n",
    "    bar1 = ax_bars.bar(x_pos[i] - width, \n",
    "                section_data.iloc[row][\"mean\"], yerr=section_data.iloc[row][\"std\"], \n",
    "                width=width, label=\"Diff + COPE1 attempt #1\", color=color_diff, hatch=\"//\", edgecolor=color_diff_border, capsize=capsize)\n",
    "    \n",
    "    bar2 = ax_bars.bar(x_pos[i] , \n",
    "                section_data.iloc[row+1][\"mean\"], yerr=section_data.iloc[row+1][\"std\"], \n",
    "                width=width, label=\"Diff + COPE1 attempt #2\", color=color_diff, edgecolor=color_diff_border, capsize=capsize)\n",
    "    \n",
    "    bar3 = ax_bars.bar(x_pos[i] + width,\n",
    "                section_data.iloc[row+2][\"mean\"], yerr=section_data.iloc[row+2][\"std\"],\n",
    "                width=width, label=\"Guess-o-meter attempt #1\", color=color_guess, hatch=\"//\", edgecolor=color_guess_border, capsize=capsize)\n",
    "    \n",
    "    \n",
    "    bar4 = ax_bars.bar(x_pos[i] + 2 * width,\n",
    "                section_data.iloc[row+3][\"mean\"], yerr=section_data.iloc[row+3][\"std\"],\n",
    "                width=width, label=\"Guess-o-meter attempt #2\", color=color_guess, edgecolor=color_guess_border, capsize=capsize)\n",
    "    \n",
    "plt.xticks(x_pos + width / 2, \n",
    "           (\"S1=\"+str(sections[0]), \"S2=\"+str(sections[1]), \"S3=\"+str(sections[2])))\n",
    "\n",
    "plt.yticks(np.arange(0,1.3,0.1))\n",
    "\n",
    "ax_bars.legend(handles=[bar1, bar2, bar3, bar4], loc=\"best\")\n",
    "\n",
    "ax_bars.yaxis.grid(True)\n",
    "ax_bars.set_ylabel(\"SoC [kWh]\")\n",
    "ax_bars.set_xlabel(\"Road sections [m]\")\n",
    "ax_bars.set_title(\"Average SoC at section S1, S2, S3 for both EVIS during both attempts\")"
   ]
  },
  {
   "cell_type": "code",
   "execution_count": 54,
   "metadata": {
    "code_folding": [
     0
    ]
   },
   "outputs": [
    {
     "data": {
      "application/vnd.jupyter.widget-view+json": {
       "model_id": "519772ae10724ffaab1806e73eefc2a3",
       "version_major": 2,
       "version_minor": 0
      },
      "text/plain": [
       "VBox(children=(Output(), Button(description='Save as image', style=ButtonStyle())))"
      ]
     },
     "metadata": {},
     "output_type": "display_data"
    }
   ],
   "source": [
    "# Widgets\n",
    "def saveImage(save):\n",
    "    fig_bars.savefig(\"../figures-local/../figures-local/road_sections_average_speed.png\", dpi=300)\n",
    "\n",
    "save_plot = widgets.Button(description=\"Save as image\")\n",
    "save_plot.on_click(saveImage)\n",
    "\n",
    "display(widgets.VBox([output, save_plot]))"
   ]
  },
  {
   "cell_type": "markdown",
   "metadata": {},
   "source": [
    "## Test statistical significance t-test\n",
    "The idea here is to see if there's any statistical significance in average SoC between the two EVIS at the specified sections.  \n",
    "We can also test if there's a difference between the average SoC between the attempts at sections for the two EVIS"
   ]
  },
  {
   "cell_type": "markdown",
   "metadata": {},
   "source": [
    "### Create data frames with the speed for each user at each distance window\n",
    "This results in 4 separate data frames. Each containing the average speed at each distance window for each user in each group\n",
    "* Attempt #1 using Diff + COPE1 `a1_mean_speeds_diff`\n",
    "* Attempt #1 using guess-o-meter `a1_mean_speeds_guess`\n",
    "* Attempt #2 using Diff + COPE1 `a2_mean_speeds_diff`\n",
    "* Attempt #2 using guess-o-meter `a2_mean_speeds_guess`"
   ]
  },
  {
   "cell_type": "code",
   "execution_count": 55,
   "metadata": {
    "code_folding": [
     0
    ]
   },
   "outputs": [],
   "source": [
    "# Separate variables storing mean speed for each user at each distance window\n",
    "which_attempt = 1\n",
    "\n",
    "# All the averaged values for each individual\n",
    "individual = average_individual[(average_individual[\"attempt\"] == which_attempt) & (average_individual[\"evis_id\"] == \"DiffAndCOPE1\")] # Get one particular attempt and evis values\n",
    "a1_mean_speeds_diff = individual.pivot(index=\"distance_window\", columns=\"user_id\", values=\"current_soc\") # Get the average speeds for each distance window for each user\n",
    "\n",
    "# All the averaged values for each individual\n",
    "individual = average_individual[(average_individual[\"attempt\"] == which_attempt) & (average_individual[\"evis_id\"] == \"GuessOMeter\")] # Get one particular attempt and evis values\n",
    "a1_mean_speeds_guess = individual.pivot(index=\"distance_window\", columns=\"user_id\", values=\"current_soc\") # Create a table with just the userID and average speeds at each distance window\n",
    "\n",
    "which_attempt = 2\n",
    "\n",
    "# All the averaged values for each individual\n",
    "individual = average_individual[(average_individual[\"attempt\"] == which_attempt) & (average_individual[\"evis_id\"] == \"DiffAndCOPE1\")] # Get one particular attempt and evis values\n",
    "a2_mean_speeds_diff = individual.pivot(index=\"distance_window\", columns=\"user_id\", values=\"current_soc\") # Get the average speeds for each distance window for each user\n",
    "\n",
    "# All the averaged values for each individual\n",
    "individual = average_individual[(average_individual[\"attempt\"] == which_attempt) & (average_individual[\"evis_id\"] == \"GuessOMeter\")] # Get one particular attempt and evis values\n",
    "a2_mean_speeds_guess = individual.pivot(index=\"distance_window\", columns=\"user_id\", values=\"current_soc\") # Create a table with just the userID and average speeds at each distance window\n",
    "\n",
    "#a2_mean_speeds_guess # Show what one of them looks like"
   ]
  },
  {
   "cell_type": "markdown",
   "metadata": {},
   "source": [
    "### Perform a t-test between the dashboards at each section. And also between attempts for the same dashboard\n",
    "Important to see if the compared groups have equal variances, since it's a requirement for t-testing.  \n",
    "Levene test can be used to test for equal variances. H0 -> Equal variances, if p < 0.05 the opposite is true"
   ]
  },
  {
   "cell_type": "code",
   "execution_count": 56,
   "metadata": {
    "code_folding": [
     0
    ],
    "scrolled": false
   },
   "outputs": [
    {
     "name": "stdout",
     "output_type": "stream",
     "text": [
      "section: [0, 3100]\n",
      "Performing independent t-test between the two EVIS for attempt #1 at road section [0, 3100]\n",
      "Sample 1 has 13 entries\n",
      "Sample 2 has 12 entries\n",
      "p-value: 0.7611109025764539\n",
      "No statistical difference between the means\n",
      "--------------------\n",
      "Performing independent t-test between the two EVIS for attempt #2 at road section [0, 3100]\n",
      "Sample 1 has 13 entries\n",
      "Sample 2 has 12 entries\n",
      "p-value: 0.2970977520246269\n",
      "No statistical difference between the means\n",
      "--------------------\n",
      "Performing dependent t-test between the two attempts using Diff + COPE1 at road section [0, 3100]\n",
      "Sample 1 has 13 entries\n",
      "Sample 2 has 13 entries\n",
      "p-value: 0.04666317429167647\n"
     ]
    },
    {
     "data": {
      "text/markdown": [
       "<font color='green'>There is a statistical difference between the means</font>"
      ],
      "text/plain": [
       "<IPython.core.display.Markdown object>"
      ]
     },
     "metadata": {},
     "output_type": "display_data"
    },
    {
     "name": "stdout",
     "output_type": "stream",
     "text": [
      "--------------------\n",
      "Performing dependent t-test between the two attempts using the guess-o-meter at road section [0, 3100]\n",
      "Sample 1 has 12 entries\n",
      "Sample 2 has 12 entries\n",
      "p-value: 0.3657248799795928\n",
      "No statistical difference between the means\n",
      "--------------------\n",
      "\n",
      "\n",
      "section: [3100, 6350]\n",
      "Performing independent t-test between the two EVIS for attempt #1 at road section [3100, 6350]\n",
      "Sample 1 has 13 entries\n",
      "Sample 2 has 12 entries\n",
      "p-value: 0.27302969647449504\n",
      "No statistical difference between the means\n",
      "--------------------\n",
      "Performing independent t-test between the two EVIS for attempt #2 at road section [3100, 6350]\n",
      "Sample 1 has 13 entries\n",
      "Sample 2 has 12 entries\n",
      "p-value: 0.4177476349831214\n",
      "No statistical difference between the means\n",
      "--------------------\n",
      "Performing dependent t-test between the two attempts using Diff + COPE1 at road section [3100, 6350]\n",
      "Sample 1 has 13 entries\n",
      "Sample 2 has 13 entries\n",
      "p-value: 5.1761500660763906e-05\n"
     ]
    },
    {
     "data": {
      "text/markdown": [
       "<font color='green'>There is a statistical difference between the means</font>"
      ],
      "text/plain": [
       "<IPython.core.display.Markdown object>"
      ]
     },
     "metadata": {},
     "output_type": "display_data"
    },
    {
     "name": "stdout",
     "output_type": "stream",
     "text": [
      "--------------------\n",
      "Performing dependent t-test between the two attempts using the guess-o-meter at road section [3100, 6350]\n",
      "Sample 1 has 12 entries\n",
      "Sample 2 has 12 entries\n",
      "p-value: 0.0012140299951833226\n"
     ]
    },
    {
     "data": {
      "text/markdown": [
       "<font color='green'>There is a statistical difference between the means</font>"
      ],
      "text/plain": [
       "<IPython.core.display.Markdown object>"
      ]
     },
     "metadata": {},
     "output_type": "display_data"
    },
    {
     "name": "stdout",
     "output_type": "stream",
     "text": [
      "--------------------\n",
      "\n",
      "\n",
      "section: [6350, 8000]\n",
      "Performing independent t-test between the two EVIS for attempt #1 at road section [6350, 8000]\n",
      "Sample 1 has 9 entries\n",
      "Sample 2 has 3 entries\n",
      "p-value: 0.22211092041648414\n",
      "No statistical difference between the means\n",
      "--------------------\n",
      "Performing independent t-test between the two EVIS for attempt #2 at road section [6350, 8000]\n",
      "Sample 1 has 13 entries\n",
      "Sample 2 has 11 entries\n",
      "p-value: 0.8852282656067632\n",
      "No statistical difference between the means\n",
      "--------------------\n",
      "Performing dependent t-test between the two attempts using Diff + COPE1 at road section [6350, 8000]\n",
      "Sample 1 has 9 entries\n",
      "Sample 2 has 13 entries\n",
      "p-value: 0.003113770317745566\n"
     ]
    },
    {
     "data": {
      "text/markdown": [
       "<font color='green'>There is a statistical difference between the means</font>"
      ],
      "text/plain": [
       "<IPython.core.display.Markdown object>"
      ]
     },
     "metadata": {},
     "output_type": "display_data"
    },
    {
     "name": "stdout",
     "output_type": "stream",
     "text": [
      "--------------------\n",
      "Performing dependent t-test between the two attempts using the guess-o-meter at road section [6350, 8000]\n",
      "Sample 1 has 3 entries\n",
      "Sample 2 has 11 entries\n",
      "p-value: 0.7106209576056651\n",
      "No statistical difference between the means\n",
      "--------------------\n",
      "\n",
      "\n",
      "section: [7000, 8000]\n",
      "Performing independent t-test between the two EVIS for attempt #1 at road section [7000, 8000]\n",
      "Sample 1 has 9 entries\n",
      "Sample 2 has 3 entries\n",
      "p-value: 0.20550910389217797\n",
      "No statistical difference between the means\n",
      "--------------------\n",
      "Performing independent t-test between the two EVIS for attempt #2 at road section [7000, 8000]\n",
      "Sample 1 has 13 entries\n",
      "Sample 2 has 10 entries\n",
      "p-value: 0.6145421503675843\n",
      "No statistical difference between the means\n",
      "--------------------\n",
      "Performing dependent t-test between the two attempts using Diff + COPE1 at road section [7000, 8000]\n",
      "Sample 1 has 9 entries\n",
      "Sample 2 has 13 entries\n",
      "p-value: 0.006015717218690437\n"
     ]
    },
    {
     "data": {
      "text/markdown": [
       "<font color='green'>There is a statistical difference between the means</font>"
      ],
      "text/plain": [
       "<IPython.core.display.Markdown object>"
      ]
     },
     "metadata": {},
     "output_type": "display_data"
    },
    {
     "name": "stdout",
     "output_type": "stream",
     "text": [
      "--------------------\n",
      "Performing dependent t-test between the two attempts using the guess-o-meter at road section [7000, 8000]\n",
      "Sample 1 has 3 entries\n",
      "Sample 2 has 10 entries\n",
      "p-value: 0.477571082989773\n",
      "No statistical difference between the means\n",
      "--------------------\n",
      "\n",
      "\n"
     ]
    }
   ],
   "source": [
    "#sections = [[7000, 8000]]\n",
    "sections = [[0, 3100], [3100, 6350], [6350, 8000], [7000, 8000]]\n",
    "\n",
    "def ttest_independent(samp_1, samp_2):\n",
    "    print(\"Sample 1 has \" + str(samp_1.count()) + \" entries\")\n",
    "    print(\"Sample 2 has \" + str(samp_2.count()) + \" entries\")\n",
    "    \n",
    "    s,p = stats.levene(samp_1, samp_2)\n",
    "    if p < 0.05:\n",
    "        print(\"Unequal variance, can't do t-test\")\n",
    "    else:\n",
    "        s,p = stats.ttest_ind(samp_1, samp_2)\n",
    "        print(\"p-value: \" + str(p))\n",
    "        if p < 0.05:\n",
    "            display(Markdown(\"<font color='green'>There is a statistical difference between the means</font>\"))\n",
    "        else:\n",
    "            print(\"No statistical difference between the means\")\n",
    "    print(\"-\"*20)\n",
    "\n",
    "def ttest_dependent(samp_1, samp_2):\n",
    "    print(\"Sample 1 has \" + str(samp_1.count()) + \" entries\")\n",
    "    print(\"Sample 2 has \" + str(samp_2.count()) + \" entries\")\n",
    "    \n",
    "    s,p = stats.ttest_ind(samp_1, samp_2)\n",
    "    print(\"p-value: \" + str(p))\n",
    "    if p < 0.05:\n",
    "        display(Markdown(\"<font color='green'>There is a statistical difference between the means</font>\"))\n",
    "    else:\n",
    "        print(\"No statistical difference between the means\")\n",
    "    print(\"-\"*20)\n",
    "\n",
    "    \n",
    "for section in sections:\n",
    "    print(\"section: \" + str(section))\n",
    "    \n",
    "    # Get the mean speeds at the given section. Also remove users who'm didn't complete the given range\n",
    "    a1_mean_speeds_diff_section = a1_mean_speeds_diff.loc[section[0]:section[1]].mean().dropna()\n",
    "    a1_mean_speeds_guess_section = a1_mean_speeds_guess.loc[section[0]:section[1]].mean().dropna()\n",
    "    \n",
    "    # Get the mean speeds at the given section. Also remove users who'm didn't complete the given range\n",
    "    a2_mean_speeds_diff_section = a2_mean_speeds_diff.loc[section[0]:section[1]].mean().dropna()\n",
    "    a2_mean_speeds_guess_section = a2_mean_speeds_guess.loc[section[0]:section[1]].mean().dropna()\n",
    "    \n",
    "    # t-test for attempt #1 between the EVIS\n",
    "    print(\"Performing independent t-test between the two EVIS for attempt #1 at road section \" + str(section))\n",
    "    ttest_independent(a1_mean_speeds_diff_section, a1_mean_speeds_guess_section)\n",
    "    \n",
    "    # t-test for attempt #2 between the EVIS\n",
    "    print(\"Performing independent t-test between the two EVIS for attempt #2 at road section \" + str(section))\n",
    "    ttest_independent(a2_mean_speeds_diff_section, a2_mean_speeds_guess_section)\n",
    "    \n",
    "    # t-test between the two attempts for the diff + COPE1 EVIS\n",
    "    print(\"Performing dependent t-test between the two attempts using Diff + COPE1 at road section \" + str(section))\n",
    "    ttest_dependent(a1_mean_speeds_diff_section, a2_mean_speeds_diff_section)\n",
    "    \n",
    "    # t-test between the two attempts for the guess-o-meter EVIS\n",
    "    print(\"Performing dependent t-test between the two attempts using the guess-o-meter at road section \" + str(section))\n",
    "    ttest_dependent(a1_mean_speeds_guess_section, a2_mean_speeds_guess_section)\n",
    "    \n",
    "    print(\"\\n\")"
   ]
  },
  {
   "cell_type": "code",
   "execution_count": null,
   "metadata": {},
   "outputs": [],
   "source": []
  }
 ],
 "metadata": {
  "hide_input": false,
  "kernelspec": {
   "display_name": "Python 3",
   "language": "python",
   "name": "python3"
  },
  "language_info": {
   "codemirror_mode": {
    "name": "ipython",
    "version": 3
   },
   "file_extension": ".py",
   "mimetype": "text/x-python",
   "name": "python",
   "nbconvert_exporter": "python",
   "pygments_lexer": "ipython3",
   "version": "3.8.3"
  },
  "toc": {
   "base_numbering": 1,
   "nav_menu": {},
   "number_sections": true,
   "sideBar": true,
   "skip_h1_title": false,
   "title_cell": "Table of Contents",
   "title_sidebar": "Contents",
   "toc_cell": false,
   "toc_position": {
    "height": "calc(100% - 180px)",
    "left": "10px",
    "top": "150px",
    "width": "257.167px"
   },
   "toc_section_display": true,
   "toc_window_display": true
  }
 },
 "nbformat": 4,
 "nbformat_minor": 4
}
